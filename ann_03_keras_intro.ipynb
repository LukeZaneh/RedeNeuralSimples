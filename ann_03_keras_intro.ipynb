{
  "cells": [
    {
      "cell_type": "markdown",
      "metadata": {
        "id": "view-in-github",
        "colab_type": "text"
      },
      "source": [
        "<a href=\"https://colab.research.google.com/github/LukeZaneh/RedeNeuralSimples/blob/main/ann_03_keras_intro.ipynb\" target=\"_parent\"><img src=\"https://colab.research.google.com/assets/colab-badge.svg\" alt=\"Open In Colab\"/></a>"
      ]
    },
    {
      "cell_type": "markdown",
      "metadata": {
        "id": "NPUHEUeJGy9n"
      },
      "source": [
        "# Curso: Redes Neurais e Deep Learning\n",
        "\n",
        "Prof. Denilson Alves Pereira \n",
        "https://sites.google.com/ufla.br/denilsonpereira/ \n",
        "Departamento de Ciência da Computação - \n",
        "Instituto de Ciências Exatas e Tecnológicas - \n",
        "Universidade Federal de Lavras\n",
        "\n",
        "## Introdução ao Framework Keras\n",
        "\n",
        "Objetivo: apresentar um exemplo de aplicação da rede neural usando a API Keras. Keras é uma biblioteca de código aberto para criação de redes neurais que roda sobre o TensorFlow, CNTK, ou Theano.\n",
        "\n",
        "Documentação: https://keras.io/\n",
        "\n",
        "Versão: Maio, 2021"
      ]
    },
    {
      "cell_type": "markdown",
      "metadata": {
        "id": "5BkZk8xZGy9v"
      },
      "source": [
        "## O Problema\n",
        "\n",
        "Classificar dados de sinais coletados da ionosfera terrestre.\n",
        "\n",
        "Entrada: instâncias compostas por 33 atributos representando os sinais coletados.\n",
        "\n",
        "Saída: \"G\" (Good): o radar retorna que os elétrons livres na ionosfera mostram a evidência de algum tipo de estrutura; \"B\" (Bad): os elétrons livres não indicam estrutura."
      ]
    },
    {
      "cell_type": "markdown",
      "metadata": {
        "id": "4-kco7LuGy9x"
      },
      "source": [
        "## Arquitetura Inicial\n",
        "\n",
        "![neuronio-sigmoide-ajustado.png](attachment:neuronio-sigmoide-ajustado.png)\n",
        "\n",
        "<p>\n",
        "Será implementado um classificador binário usando a regressão logística (Logistic Regression Classifier) para resolver o problema.\n",
        "    \n",
        "**Expressões Matemáticas**:\n",
        "\n",
        "Para um exemplo $x^{(i)}$:\n",
        "$$z^{(i)} = w^T x^{(i)} + b$$\n",
        "$$\\hat{y}^{(i)} = a^{(i)} = sigmoid(z^{(i)})$$ \n",
        "$$ \\mathcal{L}(a^{(i)}, y^{(i)}) =  - y^{(i)}  \\log(a^{(i)}) - (1-y^{(i)} )  \\log(1-a^{(i)})$$\n",
        "\n",
        "O custo é computado somando-se todos os exemplos de treino:\n",
        "$$ J = \\frac{1}{m} \\sum_{i=1}^m \\mathcal{L}(a^{(i)}, y^{(i)})$$"
      ]
    },
    {
      "cell_type": "markdown",
      "metadata": {
        "id": "joPciL8oGy9z"
      },
      "source": [
        "## Pacotes"
      ]
    },
    {
      "cell_type": "code",
      "execution_count": 3,
      "metadata": {
        "vscode": {
          "languageId": "python"
        },
        "id": "mdras13DGy90",
        "colab": {
          "base_uri": "https://localhost:8080/",
          "height": 75
        },
        "outputId": "50ca34c1-ecf8-45ab-be70-6f7b2fbf856c"
      },
      "outputs": [
        {
          "output_type": "display_data",
          "data": {
            "text/plain": [
              "<IPython.core.display.HTML object>"
            ],
            "text/html": [
              "\n",
              "     <input type=\"file\" id=\"files-4c98119e-1871-4109-b74f-c32025506c16\" name=\"files[]\" multiple disabled\n",
              "        style=\"border:none\" />\n",
              "     <output id=\"result-4c98119e-1871-4109-b74f-c32025506c16\">\n",
              "      Upload widget is only available when the cell has been executed in the\n",
              "      current browser session. Please rerun this cell to enable.\n",
              "      </output>\n",
              "      <script>// Copyright 2017 Google LLC\n",
              "//\n",
              "// Licensed under the Apache License, Version 2.0 (the \"License\");\n",
              "// you may not use this file except in compliance with the License.\n",
              "// You may obtain a copy of the License at\n",
              "//\n",
              "//      http://www.apache.org/licenses/LICENSE-2.0\n",
              "//\n",
              "// Unless required by applicable law or agreed to in writing, software\n",
              "// distributed under the License is distributed on an \"AS IS\" BASIS,\n",
              "// WITHOUT WARRANTIES OR CONDITIONS OF ANY KIND, either express or implied.\n",
              "// See the License for the specific language governing permissions and\n",
              "// limitations under the License.\n",
              "\n",
              "/**\n",
              " * @fileoverview Helpers for google.colab Python module.\n",
              " */\n",
              "(function(scope) {\n",
              "function span(text, styleAttributes = {}) {\n",
              "  const element = document.createElement('span');\n",
              "  element.textContent = text;\n",
              "  for (const key of Object.keys(styleAttributes)) {\n",
              "    element.style[key] = styleAttributes[key];\n",
              "  }\n",
              "  return element;\n",
              "}\n",
              "\n",
              "// Max number of bytes which will be uploaded at a time.\n",
              "const MAX_PAYLOAD_SIZE = 100 * 1024;\n",
              "\n",
              "function _uploadFiles(inputId, outputId) {\n",
              "  const steps = uploadFilesStep(inputId, outputId);\n",
              "  const outputElement = document.getElementById(outputId);\n",
              "  // Cache steps on the outputElement to make it available for the next call\n",
              "  // to uploadFilesContinue from Python.\n",
              "  outputElement.steps = steps;\n",
              "\n",
              "  return _uploadFilesContinue(outputId);\n",
              "}\n",
              "\n",
              "// This is roughly an async generator (not supported in the browser yet),\n",
              "// where there are multiple asynchronous steps and the Python side is going\n",
              "// to poll for completion of each step.\n",
              "// This uses a Promise to block the python side on completion of each step,\n",
              "// then passes the result of the previous step as the input to the next step.\n",
              "function _uploadFilesContinue(outputId) {\n",
              "  const outputElement = document.getElementById(outputId);\n",
              "  const steps = outputElement.steps;\n",
              "\n",
              "  const next = steps.next(outputElement.lastPromiseValue);\n",
              "  return Promise.resolve(next.value.promise).then((value) => {\n",
              "    // Cache the last promise value to make it available to the next\n",
              "    // step of the generator.\n",
              "    outputElement.lastPromiseValue = value;\n",
              "    return next.value.response;\n",
              "  });\n",
              "}\n",
              "\n",
              "/**\n",
              " * Generator function which is called between each async step of the upload\n",
              " * process.\n",
              " * @param {string} inputId Element ID of the input file picker element.\n",
              " * @param {string} outputId Element ID of the output display.\n",
              " * @return {!Iterable<!Object>} Iterable of next steps.\n",
              " */\n",
              "function* uploadFilesStep(inputId, outputId) {\n",
              "  const inputElement = document.getElementById(inputId);\n",
              "  inputElement.disabled = false;\n",
              "\n",
              "  const outputElement = document.getElementById(outputId);\n",
              "  outputElement.innerHTML = '';\n",
              "\n",
              "  const pickedPromise = new Promise((resolve) => {\n",
              "    inputElement.addEventListener('change', (e) => {\n",
              "      resolve(e.target.files);\n",
              "    });\n",
              "  });\n",
              "\n",
              "  const cancel = document.createElement('button');\n",
              "  inputElement.parentElement.appendChild(cancel);\n",
              "  cancel.textContent = 'Cancel upload';\n",
              "  const cancelPromise = new Promise((resolve) => {\n",
              "    cancel.onclick = () => {\n",
              "      resolve(null);\n",
              "    };\n",
              "  });\n",
              "\n",
              "  // Wait for the user to pick the files.\n",
              "  const files = yield {\n",
              "    promise: Promise.race([pickedPromise, cancelPromise]),\n",
              "    response: {\n",
              "      action: 'starting',\n",
              "    }\n",
              "  };\n",
              "\n",
              "  cancel.remove();\n",
              "\n",
              "  // Disable the input element since further picks are not allowed.\n",
              "  inputElement.disabled = true;\n",
              "\n",
              "  if (!files) {\n",
              "    return {\n",
              "      response: {\n",
              "        action: 'complete',\n",
              "      }\n",
              "    };\n",
              "  }\n",
              "\n",
              "  for (const file of files) {\n",
              "    const li = document.createElement('li');\n",
              "    li.append(span(file.name, {fontWeight: 'bold'}));\n",
              "    li.append(span(\n",
              "        `(${file.type || 'n/a'}) - ${file.size} bytes, ` +\n",
              "        `last modified: ${\n",
              "            file.lastModifiedDate ? file.lastModifiedDate.toLocaleDateString() :\n",
              "                                    'n/a'} - `));\n",
              "    const percent = span('0% done');\n",
              "    li.appendChild(percent);\n",
              "\n",
              "    outputElement.appendChild(li);\n",
              "\n",
              "    const fileDataPromise = new Promise((resolve) => {\n",
              "      const reader = new FileReader();\n",
              "      reader.onload = (e) => {\n",
              "        resolve(e.target.result);\n",
              "      };\n",
              "      reader.readAsArrayBuffer(file);\n",
              "    });\n",
              "    // Wait for the data to be ready.\n",
              "    let fileData = yield {\n",
              "      promise: fileDataPromise,\n",
              "      response: {\n",
              "        action: 'continue',\n",
              "      }\n",
              "    };\n",
              "\n",
              "    // Use a chunked sending to avoid message size limits. See b/62115660.\n",
              "    let position = 0;\n",
              "    do {\n",
              "      const length = Math.min(fileData.byteLength - position, MAX_PAYLOAD_SIZE);\n",
              "      const chunk = new Uint8Array(fileData, position, length);\n",
              "      position += length;\n",
              "\n",
              "      const base64 = btoa(String.fromCharCode.apply(null, chunk));\n",
              "      yield {\n",
              "        response: {\n",
              "          action: 'append',\n",
              "          file: file.name,\n",
              "          data: base64,\n",
              "        },\n",
              "      };\n",
              "\n",
              "      let percentDone = fileData.byteLength === 0 ?\n",
              "          100 :\n",
              "          Math.round((position / fileData.byteLength) * 100);\n",
              "      percent.textContent = `${percentDone}% done`;\n",
              "\n",
              "    } while (position < fileData.byteLength);\n",
              "  }\n",
              "\n",
              "  // All done.\n",
              "  yield {\n",
              "    response: {\n",
              "      action: 'complete',\n",
              "    }\n",
              "  };\n",
              "}\n",
              "\n",
              "scope.google = scope.google || {};\n",
              "scope.google.colab = scope.google.colab || {};\n",
              "scope.google.colab._files = {\n",
              "  _uploadFiles,\n",
              "  _uploadFilesContinue,\n",
              "};\n",
              "})(self);\n",
              "</script> "
            ]
          },
          "metadata": {}
        },
        {
          "output_type": "stream",
          "name": "stdout",
          "text": [
            "Saving ionosphere_data.csv to ionosphere_data.csv\n"
          ]
        }
      ],
      "source": [
        "import numpy as np # package for scientific computing\n",
        "import tensorflow as tf  #  package for numerical computation using data flow graphs\n",
        "from tensorflow import keras  # package for deep learning\n",
        "import pandas as pd # package for working with structured data\n",
        "\n",
        "from google.colab import files\n",
        "uploaded = files.upload()\n",
        "\n"
      ]
    },
    {
      "cell_type": "markdown",
      "metadata": {
        "id": "WMPEqaiSGy92"
      },
      "source": [
        "## Dados para Treino e Teste\n",
        "\n",
        "Fonte: https://www.kaggle.com/prashant111/ionosphere?select=ionosphere_data.csv"
      ]
    },
    {
      "cell_type": "code",
      "execution_count": 4,
      "metadata": {
        "vscode": {
          "languageId": "python"
        },
        "id": "GJD_XzYMGy94",
        "outputId": "cf1f06d8-0551-4e6c-e6b6-560abb667efb",
        "colab": {
          "base_uri": "https://localhost:8080/",
          "height": 300
        }
      },
      "outputs": [
        {
          "output_type": "execute_result",
          "data": {
            "text/plain": [
              "   column_a  column_c  column_d  column_e  column_f  column_g  column_h  \\\n",
              "0       1.0   0.99539  -0.05889   0.85243   0.02306   0.83398  -0.37708   \n",
              "1       1.0   1.00000  -0.18829   0.93035  -0.36156  -0.10868  -0.93597   \n",
              "2       1.0   1.00000  -0.03365   1.00000   0.00485   1.00000  -0.12062   \n",
              "3       1.0   1.00000  -0.45161   1.00000   1.00000   0.71216  -1.00000   \n",
              "4       1.0   1.00000  -0.02401   0.94140   0.06531   0.92106  -0.23255   \n",
              "\n",
              "   column_i  column_j  column_k  ...  column_z  column_aa  column_ab  \\\n",
              "0   1.00000   0.03760   0.85243  ...  -0.51171    0.41078   -0.46168   \n",
              "1   1.00000  -0.04549   0.50874  ...  -0.26569   -0.20468   -0.18401   \n",
              "2   0.88965   0.01198   0.73082  ...  -0.40220    0.58984   -0.22145   \n",
              "3   0.00000   0.00000   0.00000  ...   0.90695    0.51613    1.00000   \n",
              "4   0.77152  -0.16399   0.52798  ...  -0.65158    0.13290   -0.53206   \n",
              "\n",
              "   column_ac  column_ad  column_ae  column_af  column_ag  column_ah  column_ai  \n",
              "0    0.21266   -0.34090    0.42267   -0.54487    0.18641   -0.45300          g  \n",
              "1   -0.19040   -0.11593   -0.16626   -0.06288   -0.13738   -0.02447          b  \n",
              "2    0.43100   -0.17365    0.60436   -0.24180    0.56045   -0.38238          g  \n",
              "3    1.00000   -0.20099    0.25682    1.00000   -0.32382    1.00000          b  \n",
              "4    0.02431   -0.62197   -0.05707   -0.59573   -0.04608   -0.65697          g  \n",
              "\n",
              "[5 rows x 34 columns]"
            ],
            "text/html": [
              "\n",
              "  <div id=\"df-562ade0b-9947-4068-8840-b69162786497\">\n",
              "    <div class=\"colab-df-container\">\n",
              "      <div>\n",
              "<style scoped>\n",
              "    .dataframe tbody tr th:only-of-type {\n",
              "        vertical-align: middle;\n",
              "    }\n",
              "\n",
              "    .dataframe tbody tr th {\n",
              "        vertical-align: top;\n",
              "    }\n",
              "\n",
              "    .dataframe thead th {\n",
              "        text-align: right;\n",
              "    }\n",
              "</style>\n",
              "<table border=\"1\" class=\"dataframe\">\n",
              "  <thead>\n",
              "    <tr style=\"text-align: right;\">\n",
              "      <th></th>\n",
              "      <th>column_a</th>\n",
              "      <th>column_c</th>\n",
              "      <th>column_d</th>\n",
              "      <th>column_e</th>\n",
              "      <th>column_f</th>\n",
              "      <th>column_g</th>\n",
              "      <th>column_h</th>\n",
              "      <th>column_i</th>\n",
              "      <th>column_j</th>\n",
              "      <th>column_k</th>\n",
              "      <th>...</th>\n",
              "      <th>column_z</th>\n",
              "      <th>column_aa</th>\n",
              "      <th>column_ab</th>\n",
              "      <th>column_ac</th>\n",
              "      <th>column_ad</th>\n",
              "      <th>column_ae</th>\n",
              "      <th>column_af</th>\n",
              "      <th>column_ag</th>\n",
              "      <th>column_ah</th>\n",
              "      <th>column_ai</th>\n",
              "    </tr>\n",
              "  </thead>\n",
              "  <tbody>\n",
              "    <tr>\n",
              "      <th>0</th>\n",
              "      <td>1.0</td>\n",
              "      <td>0.99539</td>\n",
              "      <td>-0.05889</td>\n",
              "      <td>0.85243</td>\n",
              "      <td>0.02306</td>\n",
              "      <td>0.83398</td>\n",
              "      <td>-0.37708</td>\n",
              "      <td>1.00000</td>\n",
              "      <td>0.03760</td>\n",
              "      <td>0.85243</td>\n",
              "      <td>...</td>\n",
              "      <td>-0.51171</td>\n",
              "      <td>0.41078</td>\n",
              "      <td>-0.46168</td>\n",
              "      <td>0.21266</td>\n",
              "      <td>-0.34090</td>\n",
              "      <td>0.42267</td>\n",
              "      <td>-0.54487</td>\n",
              "      <td>0.18641</td>\n",
              "      <td>-0.45300</td>\n",
              "      <td>g</td>\n",
              "    </tr>\n",
              "    <tr>\n",
              "      <th>1</th>\n",
              "      <td>1.0</td>\n",
              "      <td>1.00000</td>\n",
              "      <td>-0.18829</td>\n",
              "      <td>0.93035</td>\n",
              "      <td>-0.36156</td>\n",
              "      <td>-0.10868</td>\n",
              "      <td>-0.93597</td>\n",
              "      <td>1.00000</td>\n",
              "      <td>-0.04549</td>\n",
              "      <td>0.50874</td>\n",
              "      <td>...</td>\n",
              "      <td>-0.26569</td>\n",
              "      <td>-0.20468</td>\n",
              "      <td>-0.18401</td>\n",
              "      <td>-0.19040</td>\n",
              "      <td>-0.11593</td>\n",
              "      <td>-0.16626</td>\n",
              "      <td>-0.06288</td>\n",
              "      <td>-0.13738</td>\n",
              "      <td>-0.02447</td>\n",
              "      <td>b</td>\n",
              "    </tr>\n",
              "    <tr>\n",
              "      <th>2</th>\n",
              "      <td>1.0</td>\n",
              "      <td>1.00000</td>\n",
              "      <td>-0.03365</td>\n",
              "      <td>1.00000</td>\n",
              "      <td>0.00485</td>\n",
              "      <td>1.00000</td>\n",
              "      <td>-0.12062</td>\n",
              "      <td>0.88965</td>\n",
              "      <td>0.01198</td>\n",
              "      <td>0.73082</td>\n",
              "      <td>...</td>\n",
              "      <td>-0.40220</td>\n",
              "      <td>0.58984</td>\n",
              "      <td>-0.22145</td>\n",
              "      <td>0.43100</td>\n",
              "      <td>-0.17365</td>\n",
              "      <td>0.60436</td>\n",
              "      <td>-0.24180</td>\n",
              "      <td>0.56045</td>\n",
              "      <td>-0.38238</td>\n",
              "      <td>g</td>\n",
              "    </tr>\n",
              "    <tr>\n",
              "      <th>3</th>\n",
              "      <td>1.0</td>\n",
              "      <td>1.00000</td>\n",
              "      <td>-0.45161</td>\n",
              "      <td>1.00000</td>\n",
              "      <td>1.00000</td>\n",
              "      <td>0.71216</td>\n",
              "      <td>-1.00000</td>\n",
              "      <td>0.00000</td>\n",
              "      <td>0.00000</td>\n",
              "      <td>0.00000</td>\n",
              "      <td>...</td>\n",
              "      <td>0.90695</td>\n",
              "      <td>0.51613</td>\n",
              "      <td>1.00000</td>\n",
              "      <td>1.00000</td>\n",
              "      <td>-0.20099</td>\n",
              "      <td>0.25682</td>\n",
              "      <td>1.00000</td>\n",
              "      <td>-0.32382</td>\n",
              "      <td>1.00000</td>\n",
              "      <td>b</td>\n",
              "    </tr>\n",
              "    <tr>\n",
              "      <th>4</th>\n",
              "      <td>1.0</td>\n",
              "      <td>1.00000</td>\n",
              "      <td>-0.02401</td>\n",
              "      <td>0.94140</td>\n",
              "      <td>0.06531</td>\n",
              "      <td>0.92106</td>\n",
              "      <td>-0.23255</td>\n",
              "      <td>0.77152</td>\n",
              "      <td>-0.16399</td>\n",
              "      <td>0.52798</td>\n",
              "      <td>...</td>\n",
              "      <td>-0.65158</td>\n",
              "      <td>0.13290</td>\n",
              "      <td>-0.53206</td>\n",
              "      <td>0.02431</td>\n",
              "      <td>-0.62197</td>\n",
              "      <td>-0.05707</td>\n",
              "      <td>-0.59573</td>\n",
              "      <td>-0.04608</td>\n",
              "      <td>-0.65697</td>\n",
              "      <td>g</td>\n",
              "    </tr>\n",
              "  </tbody>\n",
              "</table>\n",
              "<p>5 rows × 34 columns</p>\n",
              "</div>\n",
              "      <button class=\"colab-df-convert\" onclick=\"convertToInteractive('df-562ade0b-9947-4068-8840-b69162786497')\"\n",
              "              title=\"Convert this dataframe to an interactive table.\"\n",
              "              style=\"display:none;\">\n",
              "        \n",
              "  <svg xmlns=\"http://www.w3.org/2000/svg\" height=\"24px\"viewBox=\"0 0 24 24\"\n",
              "       width=\"24px\">\n",
              "    <path d=\"M0 0h24v24H0V0z\" fill=\"none\"/>\n",
              "    <path d=\"M18.56 5.44l.94 2.06.94-2.06 2.06-.94-2.06-.94-.94-2.06-.94 2.06-2.06.94zm-11 1L8.5 8.5l.94-2.06 2.06-.94-2.06-.94L8.5 2.5l-.94 2.06-2.06.94zm10 10l.94 2.06.94-2.06 2.06-.94-2.06-.94-.94-2.06-.94 2.06-2.06.94z\"/><path d=\"M17.41 7.96l-1.37-1.37c-.4-.4-.92-.59-1.43-.59-.52 0-1.04.2-1.43.59L10.3 9.45l-7.72 7.72c-.78.78-.78 2.05 0 2.83L4 21.41c.39.39.9.59 1.41.59.51 0 1.02-.2 1.41-.59l7.78-7.78 2.81-2.81c.8-.78.8-2.07 0-2.86zM5.41 20L4 18.59l7.72-7.72 1.47 1.35L5.41 20z\"/>\n",
              "  </svg>\n",
              "      </button>\n",
              "      \n",
              "  <style>\n",
              "    .colab-df-container {\n",
              "      display:flex;\n",
              "      flex-wrap:wrap;\n",
              "      gap: 12px;\n",
              "    }\n",
              "\n",
              "    .colab-df-convert {\n",
              "      background-color: #E8F0FE;\n",
              "      border: none;\n",
              "      border-radius: 50%;\n",
              "      cursor: pointer;\n",
              "      display: none;\n",
              "      fill: #1967D2;\n",
              "      height: 32px;\n",
              "      padding: 0 0 0 0;\n",
              "      width: 32px;\n",
              "    }\n",
              "\n",
              "    .colab-df-convert:hover {\n",
              "      background-color: #E2EBFA;\n",
              "      box-shadow: 0px 1px 2px rgba(60, 64, 67, 0.3), 0px 1px 3px 1px rgba(60, 64, 67, 0.15);\n",
              "      fill: #174EA6;\n",
              "    }\n",
              "\n",
              "    [theme=dark] .colab-df-convert {\n",
              "      background-color: #3B4455;\n",
              "      fill: #D2E3FC;\n",
              "    }\n",
              "\n",
              "    [theme=dark] .colab-df-convert:hover {\n",
              "      background-color: #434B5C;\n",
              "      box-shadow: 0px 1px 3px 1px rgba(0, 0, 0, 0.15);\n",
              "      filter: drop-shadow(0px 1px 2px rgba(0, 0, 0, 0.3));\n",
              "      fill: #FFFFFF;\n",
              "    }\n",
              "  </style>\n",
              "\n",
              "      <script>\n",
              "        const buttonEl =\n",
              "          document.querySelector('#df-562ade0b-9947-4068-8840-b69162786497 button.colab-df-convert');\n",
              "        buttonEl.style.display =\n",
              "          google.colab.kernel.accessAllowed ? 'block' : 'none';\n",
              "\n",
              "        async function convertToInteractive(key) {\n",
              "          const element = document.querySelector('#df-562ade0b-9947-4068-8840-b69162786497');\n",
              "          const dataTable =\n",
              "            await google.colab.kernel.invokeFunction('convertToInteractive',\n",
              "                                                     [key], {});\n",
              "          if (!dataTable) return;\n",
              "\n",
              "          const docLinkHtml = 'Like what you see? Visit the ' +\n",
              "            '<a target=\"_blank\" href=https://colab.research.google.com/notebooks/data_table.ipynb>data table notebook</a>'\n",
              "            + ' to learn more about interactive tables.';\n",
              "          element.innerHTML = '';\n",
              "          dataTable['output_type'] = 'display_data';\n",
              "          await google.colab.output.renderOutput(dataTable, element);\n",
              "          const docLink = document.createElement('div');\n",
              "          docLink.innerHTML = docLinkHtml;\n",
              "          element.appendChild(docLink);\n",
              "        }\n",
              "      </script>\n",
              "    </div>\n",
              "  </div>\n",
              "  "
            ]
          },
          "metadata": {},
          "execution_count": 4
        }
      ],
      "source": [
        "df = pd.read_csv('ionosphere_data.csv')\n",
        "df['column_a'] = df.column_a.astype('float64') # convert boolean feature into numeric\n",
        "df.drop(columns=['column_b'], inplace=True) # remove useless feature\n",
        "df.head() # display dataset first lines\n"
      ]
    },
    {
      "cell_type": "code",
      "execution_count": 5,
      "metadata": {
        "vscode": {
          "languageId": "python"
        },
        "id": "wz0NSSGAGy95",
        "outputId": "7f782692-fd16-4c73-f967-703dddb00218",
        "colab": {
          "base_uri": "https://localhost:8080/",
          "height": 300
        }
      },
      "outputs": [
        {
          "output_type": "execute_result",
          "data": {
            "text/plain": [
              "   column_a  column_c  column_d  column_e  column_f  column_g  column_h  \\\n",
              "0       1.0   0.99539  -0.05889   0.85243   0.02306   0.83398  -0.37708   \n",
              "1       1.0   1.00000  -0.18829   0.93035  -0.36156  -0.10868  -0.93597   \n",
              "2       1.0   1.00000  -0.03365   1.00000   0.00485   1.00000  -0.12062   \n",
              "3       1.0   1.00000  -0.45161   1.00000   1.00000   0.71216  -1.00000   \n",
              "4       1.0   1.00000  -0.02401   0.94140   0.06531   0.92106  -0.23255   \n",
              "\n",
              "   column_i  column_j  column_k  ...  column_z  column_aa  column_ab  \\\n",
              "0   1.00000   0.03760   0.85243  ...  -0.51171    0.41078   -0.46168   \n",
              "1   1.00000  -0.04549   0.50874  ...  -0.26569   -0.20468   -0.18401   \n",
              "2   0.88965   0.01198   0.73082  ...  -0.40220    0.58984   -0.22145   \n",
              "3   0.00000   0.00000   0.00000  ...   0.90695    0.51613    1.00000   \n",
              "4   0.77152  -0.16399   0.52798  ...  -0.65158    0.13290   -0.53206   \n",
              "\n",
              "   column_ac  column_ad  column_ae  column_af  column_ag  column_ah  label  \n",
              "0    0.21266   -0.34090    0.42267   -0.54487    0.18641   -0.45300      1  \n",
              "1   -0.19040   -0.11593   -0.16626   -0.06288   -0.13738   -0.02447      0  \n",
              "2    0.43100   -0.17365    0.60436   -0.24180    0.56045   -0.38238      1  \n",
              "3    1.00000   -0.20099    0.25682    1.00000   -0.32382    1.00000      0  \n",
              "4    0.02431   -0.62197   -0.05707   -0.59573   -0.04608   -0.65697      1  \n",
              "\n",
              "[5 rows x 34 columns]"
            ],
            "text/html": [
              "\n",
              "  <div id=\"df-b8f715ce-b3bb-4f09-bf0f-19b53c3929e2\">\n",
              "    <div class=\"colab-df-container\">\n",
              "      <div>\n",
              "<style scoped>\n",
              "    .dataframe tbody tr th:only-of-type {\n",
              "        vertical-align: middle;\n",
              "    }\n",
              "\n",
              "    .dataframe tbody tr th {\n",
              "        vertical-align: top;\n",
              "    }\n",
              "\n",
              "    .dataframe thead th {\n",
              "        text-align: right;\n",
              "    }\n",
              "</style>\n",
              "<table border=\"1\" class=\"dataframe\">\n",
              "  <thead>\n",
              "    <tr style=\"text-align: right;\">\n",
              "      <th></th>\n",
              "      <th>column_a</th>\n",
              "      <th>column_c</th>\n",
              "      <th>column_d</th>\n",
              "      <th>column_e</th>\n",
              "      <th>column_f</th>\n",
              "      <th>column_g</th>\n",
              "      <th>column_h</th>\n",
              "      <th>column_i</th>\n",
              "      <th>column_j</th>\n",
              "      <th>column_k</th>\n",
              "      <th>...</th>\n",
              "      <th>column_z</th>\n",
              "      <th>column_aa</th>\n",
              "      <th>column_ab</th>\n",
              "      <th>column_ac</th>\n",
              "      <th>column_ad</th>\n",
              "      <th>column_ae</th>\n",
              "      <th>column_af</th>\n",
              "      <th>column_ag</th>\n",
              "      <th>column_ah</th>\n",
              "      <th>label</th>\n",
              "    </tr>\n",
              "  </thead>\n",
              "  <tbody>\n",
              "    <tr>\n",
              "      <th>0</th>\n",
              "      <td>1.0</td>\n",
              "      <td>0.99539</td>\n",
              "      <td>-0.05889</td>\n",
              "      <td>0.85243</td>\n",
              "      <td>0.02306</td>\n",
              "      <td>0.83398</td>\n",
              "      <td>-0.37708</td>\n",
              "      <td>1.00000</td>\n",
              "      <td>0.03760</td>\n",
              "      <td>0.85243</td>\n",
              "      <td>...</td>\n",
              "      <td>-0.51171</td>\n",
              "      <td>0.41078</td>\n",
              "      <td>-0.46168</td>\n",
              "      <td>0.21266</td>\n",
              "      <td>-0.34090</td>\n",
              "      <td>0.42267</td>\n",
              "      <td>-0.54487</td>\n",
              "      <td>0.18641</td>\n",
              "      <td>-0.45300</td>\n",
              "      <td>1</td>\n",
              "    </tr>\n",
              "    <tr>\n",
              "      <th>1</th>\n",
              "      <td>1.0</td>\n",
              "      <td>1.00000</td>\n",
              "      <td>-0.18829</td>\n",
              "      <td>0.93035</td>\n",
              "      <td>-0.36156</td>\n",
              "      <td>-0.10868</td>\n",
              "      <td>-0.93597</td>\n",
              "      <td>1.00000</td>\n",
              "      <td>-0.04549</td>\n",
              "      <td>0.50874</td>\n",
              "      <td>...</td>\n",
              "      <td>-0.26569</td>\n",
              "      <td>-0.20468</td>\n",
              "      <td>-0.18401</td>\n",
              "      <td>-0.19040</td>\n",
              "      <td>-0.11593</td>\n",
              "      <td>-0.16626</td>\n",
              "      <td>-0.06288</td>\n",
              "      <td>-0.13738</td>\n",
              "      <td>-0.02447</td>\n",
              "      <td>0</td>\n",
              "    </tr>\n",
              "    <tr>\n",
              "      <th>2</th>\n",
              "      <td>1.0</td>\n",
              "      <td>1.00000</td>\n",
              "      <td>-0.03365</td>\n",
              "      <td>1.00000</td>\n",
              "      <td>0.00485</td>\n",
              "      <td>1.00000</td>\n",
              "      <td>-0.12062</td>\n",
              "      <td>0.88965</td>\n",
              "      <td>0.01198</td>\n",
              "      <td>0.73082</td>\n",
              "      <td>...</td>\n",
              "      <td>-0.40220</td>\n",
              "      <td>0.58984</td>\n",
              "      <td>-0.22145</td>\n",
              "      <td>0.43100</td>\n",
              "      <td>-0.17365</td>\n",
              "      <td>0.60436</td>\n",
              "      <td>-0.24180</td>\n",
              "      <td>0.56045</td>\n",
              "      <td>-0.38238</td>\n",
              "      <td>1</td>\n",
              "    </tr>\n",
              "    <tr>\n",
              "      <th>3</th>\n",
              "      <td>1.0</td>\n",
              "      <td>1.00000</td>\n",
              "      <td>-0.45161</td>\n",
              "      <td>1.00000</td>\n",
              "      <td>1.00000</td>\n",
              "      <td>0.71216</td>\n",
              "      <td>-1.00000</td>\n",
              "      <td>0.00000</td>\n",
              "      <td>0.00000</td>\n",
              "      <td>0.00000</td>\n",
              "      <td>...</td>\n",
              "      <td>0.90695</td>\n",
              "      <td>0.51613</td>\n",
              "      <td>1.00000</td>\n",
              "      <td>1.00000</td>\n",
              "      <td>-0.20099</td>\n",
              "      <td>0.25682</td>\n",
              "      <td>1.00000</td>\n",
              "      <td>-0.32382</td>\n",
              "      <td>1.00000</td>\n",
              "      <td>0</td>\n",
              "    </tr>\n",
              "    <tr>\n",
              "      <th>4</th>\n",
              "      <td>1.0</td>\n",
              "      <td>1.00000</td>\n",
              "      <td>-0.02401</td>\n",
              "      <td>0.94140</td>\n",
              "      <td>0.06531</td>\n",
              "      <td>0.92106</td>\n",
              "      <td>-0.23255</td>\n",
              "      <td>0.77152</td>\n",
              "      <td>-0.16399</td>\n",
              "      <td>0.52798</td>\n",
              "      <td>...</td>\n",
              "      <td>-0.65158</td>\n",
              "      <td>0.13290</td>\n",
              "      <td>-0.53206</td>\n",
              "      <td>0.02431</td>\n",
              "      <td>-0.62197</td>\n",
              "      <td>-0.05707</td>\n",
              "      <td>-0.59573</td>\n",
              "      <td>-0.04608</td>\n",
              "      <td>-0.65697</td>\n",
              "      <td>1</td>\n",
              "    </tr>\n",
              "  </tbody>\n",
              "</table>\n",
              "<p>5 rows × 34 columns</p>\n",
              "</div>\n",
              "      <button class=\"colab-df-convert\" onclick=\"convertToInteractive('df-b8f715ce-b3bb-4f09-bf0f-19b53c3929e2')\"\n",
              "              title=\"Convert this dataframe to an interactive table.\"\n",
              "              style=\"display:none;\">\n",
              "        \n",
              "  <svg xmlns=\"http://www.w3.org/2000/svg\" height=\"24px\"viewBox=\"0 0 24 24\"\n",
              "       width=\"24px\">\n",
              "    <path d=\"M0 0h24v24H0V0z\" fill=\"none\"/>\n",
              "    <path d=\"M18.56 5.44l.94 2.06.94-2.06 2.06-.94-2.06-.94-.94-2.06-.94 2.06-2.06.94zm-11 1L8.5 8.5l.94-2.06 2.06-.94-2.06-.94L8.5 2.5l-.94 2.06-2.06.94zm10 10l.94 2.06.94-2.06 2.06-.94-2.06-.94-.94-2.06-.94 2.06-2.06.94z\"/><path d=\"M17.41 7.96l-1.37-1.37c-.4-.4-.92-.59-1.43-.59-.52 0-1.04.2-1.43.59L10.3 9.45l-7.72 7.72c-.78.78-.78 2.05 0 2.83L4 21.41c.39.39.9.59 1.41.59.51 0 1.02-.2 1.41-.59l7.78-7.78 2.81-2.81c.8-.78.8-2.07 0-2.86zM5.41 20L4 18.59l7.72-7.72 1.47 1.35L5.41 20z\"/>\n",
              "  </svg>\n",
              "      </button>\n",
              "      \n",
              "  <style>\n",
              "    .colab-df-container {\n",
              "      display:flex;\n",
              "      flex-wrap:wrap;\n",
              "      gap: 12px;\n",
              "    }\n",
              "\n",
              "    .colab-df-convert {\n",
              "      background-color: #E8F0FE;\n",
              "      border: none;\n",
              "      border-radius: 50%;\n",
              "      cursor: pointer;\n",
              "      display: none;\n",
              "      fill: #1967D2;\n",
              "      height: 32px;\n",
              "      padding: 0 0 0 0;\n",
              "      width: 32px;\n",
              "    }\n",
              "\n",
              "    .colab-df-convert:hover {\n",
              "      background-color: #E2EBFA;\n",
              "      box-shadow: 0px 1px 2px rgba(60, 64, 67, 0.3), 0px 1px 3px 1px rgba(60, 64, 67, 0.15);\n",
              "      fill: #174EA6;\n",
              "    }\n",
              "\n",
              "    [theme=dark] .colab-df-convert {\n",
              "      background-color: #3B4455;\n",
              "      fill: #D2E3FC;\n",
              "    }\n",
              "\n",
              "    [theme=dark] .colab-df-convert:hover {\n",
              "      background-color: #434B5C;\n",
              "      box-shadow: 0px 1px 3px 1px rgba(0, 0, 0, 0.15);\n",
              "      filter: drop-shadow(0px 1px 2px rgba(0, 0, 0, 0.3));\n",
              "      fill: #FFFFFF;\n",
              "    }\n",
              "  </style>\n",
              "\n",
              "      <script>\n",
              "        const buttonEl =\n",
              "          document.querySelector('#df-b8f715ce-b3bb-4f09-bf0f-19b53c3929e2 button.colab-df-convert');\n",
              "        buttonEl.style.display =\n",
              "          google.colab.kernel.accessAllowed ? 'block' : 'none';\n",
              "\n",
              "        async function convertToInteractive(key) {\n",
              "          const element = document.querySelector('#df-b8f715ce-b3bb-4f09-bf0f-19b53c3929e2');\n",
              "          const dataTable =\n",
              "            await google.colab.kernel.invokeFunction('convertToInteractive',\n",
              "                                                     [key], {});\n",
              "          if (!dataTable) return;\n",
              "\n",
              "          const docLinkHtml = 'Like what you see? Visit the ' +\n",
              "            '<a target=\"_blank\" href=https://colab.research.google.com/notebooks/data_table.ipynb>data table notebook</a>'\n",
              "            + ' to learn more about interactive tables.';\n",
              "          element.innerHTML = '';\n",
              "          dataTable['output_type'] = 'display_data';\n",
              "          await google.colab.output.renderOutput(dataTable, element);\n",
              "          const docLink = document.createElement('div');\n",
              "          docLink.innerHTML = docLinkHtml;\n",
              "          element.appendChild(docLink);\n",
              "        }\n",
              "      </script>\n",
              "    </div>\n",
              "  </div>\n",
              "  "
            ]
          },
          "metadata": {},
          "execution_count": 5
        }
      ],
      "source": [
        "# Encoding the output class\n",
        "df.rename(columns={'column_ai': 'label'}, inplace=True)\n",
        "df['label'] = df.label.astype('category')\n",
        "encoding = {'g': 1, 'b': 0}\n",
        "df.label.replace(encoding, inplace=True)\n",
        "df.head()"
      ]
    },
    {
      "cell_type": "markdown",
      "metadata": {
        "id": "HX20cDWbGy97"
      },
      "source": [
        "Documentação de *train_test_split*: https://scikit-learn.org/stable/modules/generated/sklearn.model_selection.train_test_split.html <br>\n",
        "A função divide os dados em partições de treino e teste, de acordo com a proporção especificada pelo parâmetro *test_size*. <br>\n",
        "O parâmetro *random_state* é usado para deixar os resultados reproduzíveis para fins de avaliação do exercício."
      ]
    },
    {
      "cell_type": "code",
      "execution_count": 6,
      "metadata": {
        "vscode": {
          "languageId": "python"
        },
        "id": "865caSIBGy99"
      },
      "outputs": [],
      "source": [
        "# Preparing the dataset for training and test\n",
        "from sklearn.model_selection import train_test_split\n",
        "X = df.values[:,:-1]\n",
        "Y = df.values[:,-1]\n",
        "train_set_X, test_set_X, train_set_Y, test_set_Y = train_test_split(X, Y, test_size=0.20, random_state=7)"
      ]
    },
    {
      "cell_type": "markdown",
      "metadata": {
        "id": "RdEZiYaTGy9_"
      },
      "source": [
        "Documentação de *fit_transform*: https://scikit-learn.org/stable/modules/generated/sklearn.preprocessing.StandardScaler.html <br>\n",
        "A função modifica o valor da cada atributo de cada instância dos dados com base na média e no desvio padrão do conjunto de dados."
      ]
    },
    {
      "cell_type": "code",
      "execution_count": 7,
      "metadata": {
        "vscode": {
          "languageId": "python"
        },
        "id": "65-nPcvcGy-A"
      },
      "outputs": [],
      "source": [
        "# Standardize features by removing the mean and scaling to unit variance\n",
        "from sklearn.preprocessing import StandardScaler\n",
        "scaler = StandardScaler()\n",
        "# The boolean feature does not need to be normalized.\n",
        "train_set_X[:,1:] = scaler.fit_transform(train_set_X[:,1:])\n",
        "test_set_X[:,1:]  = scaler.fit_transform(test_set_X[:,1:])"
      ]
    },
    {
      "cell_type": "markdown",
      "metadata": {
        "id": "iYy6cMswGy-B"
      },
      "source": [
        "### Atenção\n",
        "No formato da entrada de dados da API Keras, as linhas representam as instâncias (exemplos) e as colunas representam os atributos. Isso é invertido em relação ao que foi visto até agora na implementação mostrada nos exemplos anteriores."
      ]
    },
    {
      "cell_type": "code",
      "execution_count": 8,
      "metadata": {
        "vscode": {
          "languageId": "python"
        },
        "id": "oaT3suq3Gy-C",
        "outputId": "0ea8fa95-a120-4199-cf41-1c3feb68ac01",
        "colab": {
          "base_uri": "https://localhost:8080/"
        }
      },
      "outputs": [
        {
          "output_type": "stream",
          "name": "stdout",
          "text": [
            "Number of attributes: n = 33\n",
            "Number of training examples: m = 280\n",
            "Train set X shape: (280, 33)\n",
            "Train set Y shape: (280,)\n",
            "Test set X shape: (71, 33)\n",
            "Test set Y shape: (71,)\n"
          ]
        }
      ],
      "source": [
        "n = train_set_X.shape[1] # number of attributes\n",
        "m = train_set_X.shape[0] # number of training examples\n",
        "\n",
        "print (\"Number of attributes: n = \" + str(n))\n",
        "print (\"Number of training examples: m = \" + str(m))\n",
        "print (\"Train set X shape: \" + str(train_set_X.shape))\n",
        "print (\"Train set Y shape: \" + str(train_set_Y.shape))\n",
        "print (\"Test set X shape: \" + str(test_set_X.shape))\n",
        "print (\"Test set Y shape: \" + str(test_set_Y.shape))"
      ]
    },
    {
      "cell_type": "markdown",
      "metadata": {
        "id": "5my97sT1Gy-E"
      },
      "source": [
        "## Definição do Modelo\n",
        "\n",
        "O modelo em Keras é definido como uma sequência de camadas.\n",
        "\n",
        "No exemplo abaixo, a rede é constituida de apenas um neurônio, o qual recebe os dados da camada de entrada e produz a saída. Como é um problema de classificação binária, a saída é produzida pela função de ativação Sigmóide.\n",
        "\n",
        "Documentações: <br>\n",
        "Classe *Model*: https://keras.io/api/models/model/ <br>\n",
        "Funções de ativação disponíveis: https://keras.io/api/layers/activations/ "
      ]
    },
    {
      "cell_type": "code",
      "execution_count": 9,
      "metadata": {
        "vscode": {
          "languageId": "python"
        },
        "id": "7cVm6WppGy-E"
      },
      "outputs": [],
      "source": [
        "inputs = keras.Input(shape=(train_set_X.shape[1]))  # the shape of inputs (number of attributes)\n",
        "outputs = keras.layers.Dense(units=1, activation=\"sigmoid\")(inputs)  # single neuron network with sigmoid as activation function\n",
        "model = keras.Model(inputs=inputs, outputs=outputs)  # instantiate a Model object"
      ]
    },
    {
      "cell_type": "code",
      "execution_count": 10,
      "metadata": {
        "vscode": {
          "languageId": "python"
        },
        "id": "1qvnrBIAGy-F",
        "outputId": "22abf7fc-d618-45ee-ce61-9532554ba81c",
        "colab": {
          "base_uri": "https://localhost:8080/"
        }
      },
      "outputs": [
        {
          "output_type": "stream",
          "name": "stdout",
          "text": [
            "(280, 1)\n"
          ]
        }
      ],
      "source": [
        "# Checking\n",
        "processed_data = model(train_set_X)\n",
        "print(processed_data.shape)"
      ]
    },
    {
      "cell_type": "code",
      "execution_count": 11,
      "metadata": {
        "vscode": {
          "languageId": "python"
        },
        "id": "NDamO2MaGy-H",
        "outputId": "57a56678-33bd-4a20-b112-80051fcdd566",
        "colab": {
          "base_uri": "https://localhost:8080/"
        }
      },
      "outputs": [
        {
          "output_type": "stream",
          "name": "stdout",
          "text": [
            "Model: \"model\"\n",
            "_________________________________________________________________\n",
            " Layer (type)                Output Shape              Param #   \n",
            "=================================================================\n",
            " input_1 (InputLayer)        [(None, 33)]              0         \n",
            "                                                                 \n",
            " dense (Dense)               (None, 1)                 34        \n",
            "                                                                 \n",
            "=================================================================\n",
            "Total params: 34\n",
            "Trainable params: 34\n",
            "Non-trainable params: 0\n",
            "_________________________________________________________________\n"
          ]
        }
      ],
      "source": [
        "# Prints a summary of the network, showing its architecture and parameters.\n",
        "model.summary()"
      ]
    },
    {
      "cell_type": "markdown",
      "metadata": {
        "id": "K-MXKP4mGy-I"
      },
      "source": [
        "## Compilação do Modelo\n",
        "\n",
        "Na compilação do modelo, a biblioteca de backend (TensorFlow, por exemplo) escolhe a melhor forma de representar a rede no seu hardware, tal como CPU, GPU ou TPU.\n",
        "\n",
        "Os seguintes parâmetros devem ser especificados:\n",
        "1. Loss Function – função de perda. No exemplo, será utilizada a função Cross-Entropy, usada na Regressão Logística.\n",
        "2. Optimizer – otimizador, o qual executa o algoritmo da descida do gradiente. Um otimizador popular é chamado de \"adam\".\n",
        "3. Metrics – métricas a serem monitoradas (opcional)\n",
        "\n",
        "Documentação: https://keras.io/api/models/model_training_apis/"
      ]
    },
    {
      "cell_type": "code",
      "execution_count": 12,
      "metadata": {
        "scrolled": false,
        "vscode": {
          "languageId": "python"
        },
        "id": "8WdhxZm5Gy-J"
      },
      "outputs": [],
      "source": [
        "model.compile(optimizer=\"adam\", loss=\"binary_crossentropy\", metrics=[\"accuracy\"])"
      ]
    },
    {
      "cell_type": "markdown",
      "metadata": {
        "id": "mPib7_NBGy-J"
      },
      "source": [
        "## Treinamento do Modelo\n",
        "\n",
        "Ajusta o modelo aos dados de treinamento.\n",
        "Devem ser fornecidos os dados de treinamento, o número de épocas (iterações) e o tamanho do lote (batch). Uma época é composta por uma única passagem por todos os exemplos do conjunto de treino. O tamanho do lote define o número de amostras (exemplos) a serem consideradas pelo modelo antes de atualizar os pesos. Assim, uma época é composta por um ou mais lotes.\n",
        "\n",
        "Documentação: https://keras.io/api/models/model_training_apis/"
      ]
    },
    {
      "cell_type": "code",
      "execution_count": 13,
      "metadata": {
        "vscode": {
          "languageId": "python"
        },
        "id": "eOaoHPIUGy-K",
        "outputId": "8f2b603b-deb5-4a8b-8e4a-0d6e9c4074a1",
        "colab": {
          "base_uri": "https://localhost:8080/"
        }
      },
      "outputs": [
        {
          "output_type": "stream",
          "name": "stdout",
          "text": [
            "Epoch 1/100\n",
            "9/9 [==============================] - 1s 2ms/step - loss: 1.1350 - accuracy: 0.3321\n",
            "Epoch 2/100\n",
            "9/9 [==============================] - 0s 2ms/step - loss: 1.0891 - accuracy: 0.3429\n",
            "Epoch 3/100\n",
            "9/9 [==============================] - 0s 2ms/step - loss: 1.0444 - accuracy: 0.3500\n",
            "Epoch 4/100\n",
            "9/9 [==============================] - 0s 2ms/step - loss: 1.0023 - accuracy: 0.3571\n",
            "Epoch 5/100\n",
            "9/9 [==============================] - 0s 2ms/step - loss: 0.9613 - accuracy: 0.3607\n",
            "Epoch 6/100\n",
            "9/9 [==============================] - 0s 2ms/step - loss: 0.9240 - accuracy: 0.3643\n",
            "Epoch 7/100\n",
            "9/9 [==============================] - 0s 2ms/step - loss: 0.8891 - accuracy: 0.3786\n",
            "Epoch 8/100\n",
            "9/9 [==============================] - 0s 2ms/step - loss: 0.8566 - accuracy: 0.3857\n",
            "Epoch 9/100\n",
            "9/9 [==============================] - 0s 2ms/step - loss: 0.8262 - accuracy: 0.4036\n",
            "Epoch 10/100\n",
            "9/9 [==============================] - 0s 2ms/step - loss: 0.7967 - accuracy: 0.4179\n",
            "Epoch 11/100\n",
            "9/9 [==============================] - 0s 2ms/step - loss: 0.7703 - accuracy: 0.4464\n",
            "Epoch 12/100\n",
            "9/9 [==============================] - 0s 2ms/step - loss: 0.7473 - accuracy: 0.4536\n",
            "Epoch 13/100\n",
            "9/9 [==============================] - 0s 2ms/step - loss: 0.7247 - accuracy: 0.4607\n",
            "Epoch 14/100\n",
            "9/9 [==============================] - 0s 2ms/step - loss: 0.7046 - accuracy: 0.4857\n",
            "Epoch 15/100\n",
            "9/9 [==============================] - 0s 2ms/step - loss: 0.6848 - accuracy: 0.5464\n",
            "Epoch 16/100\n",
            "9/9 [==============================] - 0s 2ms/step - loss: 0.6681 - accuracy: 0.5929\n",
            "Epoch 17/100\n",
            "9/9 [==============================] - 0s 2ms/step - loss: 0.6524 - accuracy: 0.6357\n",
            "Epoch 18/100\n",
            "9/9 [==============================] - 0s 2ms/step - loss: 0.6377 - accuracy: 0.6643\n",
            "Epoch 19/100\n",
            "9/9 [==============================] - 0s 2ms/step - loss: 0.6238 - accuracy: 0.6929\n",
            "Epoch 20/100\n",
            "9/9 [==============================] - 0s 2ms/step - loss: 0.6117 - accuracy: 0.7143\n",
            "Epoch 21/100\n",
            "9/9 [==============================] - 0s 2ms/step - loss: 0.5997 - accuracy: 0.7357\n",
            "Epoch 22/100\n",
            "9/9 [==============================] - 0s 2ms/step - loss: 0.5893 - accuracy: 0.7464\n",
            "Epoch 23/100\n",
            "9/9 [==============================] - 0s 2ms/step - loss: 0.5794 - accuracy: 0.7429\n",
            "Epoch 24/100\n",
            "9/9 [==============================] - 0s 2ms/step - loss: 0.5702 - accuracy: 0.7536\n",
            "Epoch 25/100\n",
            "9/9 [==============================] - 0s 2ms/step - loss: 0.5612 - accuracy: 0.7571\n",
            "Epoch 26/100\n",
            "9/9 [==============================] - 0s 2ms/step - loss: 0.5531 - accuracy: 0.7643\n",
            "Epoch 27/100\n",
            "9/9 [==============================] - 0s 2ms/step - loss: 0.5452 - accuracy: 0.7750\n",
            "Epoch 28/100\n",
            "9/9 [==============================] - 0s 2ms/step - loss: 0.5382 - accuracy: 0.7857\n",
            "Epoch 29/100\n",
            "9/9 [==============================] - 0s 2ms/step - loss: 0.5313 - accuracy: 0.7857\n",
            "Epoch 30/100\n",
            "9/9 [==============================] - 0s 4ms/step - loss: 0.5250 - accuracy: 0.7893\n",
            "Epoch 31/100\n",
            "9/9 [==============================] - 0s 3ms/step - loss: 0.5190 - accuracy: 0.7929\n",
            "Epoch 32/100\n",
            "9/9 [==============================] - 0s 3ms/step - loss: 0.5131 - accuracy: 0.7929\n",
            "Epoch 33/100\n",
            "9/9 [==============================] - 0s 2ms/step - loss: 0.5077 - accuracy: 0.8000\n",
            "Epoch 34/100\n",
            "9/9 [==============================] - 0s 3ms/step - loss: 0.5024 - accuracy: 0.8000\n",
            "Epoch 35/100\n",
            "9/9 [==============================] - 0s 2ms/step - loss: 0.4971 - accuracy: 0.8036\n",
            "Epoch 36/100\n",
            "9/9 [==============================] - 0s 3ms/step - loss: 0.4926 - accuracy: 0.8036\n",
            "Epoch 37/100\n",
            "9/9 [==============================] - 0s 2ms/step - loss: 0.4879 - accuracy: 0.8036\n",
            "Epoch 38/100\n",
            "9/9 [==============================] - 0s 2ms/step - loss: 0.4838 - accuracy: 0.8107\n",
            "Epoch 39/100\n",
            "9/9 [==============================] - 0s 2ms/step - loss: 0.4793 - accuracy: 0.8143\n",
            "Epoch 40/100\n",
            "9/9 [==============================] - 0s 2ms/step - loss: 0.4754 - accuracy: 0.8071\n",
            "Epoch 41/100\n",
            "9/9 [==============================] - 0s 2ms/step - loss: 0.4714 - accuracy: 0.8071\n",
            "Epoch 42/100\n",
            "9/9 [==============================] - 0s 2ms/step - loss: 0.4674 - accuracy: 0.8071\n",
            "Epoch 43/100\n",
            "9/9 [==============================] - 0s 2ms/step - loss: 0.4639 - accuracy: 0.8143\n",
            "Epoch 44/100\n",
            "9/9 [==============================] - 0s 2ms/step - loss: 0.4604 - accuracy: 0.8179\n",
            "Epoch 45/100\n",
            "9/9 [==============================] - 0s 2ms/step - loss: 0.4571 - accuracy: 0.8179\n",
            "Epoch 46/100\n",
            "9/9 [==============================] - 0s 2ms/step - loss: 0.4536 - accuracy: 0.8214\n",
            "Epoch 47/100\n",
            "9/9 [==============================] - 0s 2ms/step - loss: 0.4504 - accuracy: 0.8214\n",
            "Epoch 48/100\n",
            "9/9 [==============================] - 0s 2ms/step - loss: 0.4473 - accuracy: 0.8250\n",
            "Epoch 49/100\n",
            "9/9 [==============================] - 0s 2ms/step - loss: 0.4445 - accuracy: 0.8286\n",
            "Epoch 50/100\n",
            "9/9 [==============================] - 0s 2ms/step - loss: 0.4414 - accuracy: 0.8286\n",
            "Epoch 51/100\n",
            "9/9 [==============================] - 0s 2ms/step - loss: 0.4385 - accuracy: 0.8286\n",
            "Epoch 52/100\n",
            "9/9 [==============================] - 0s 2ms/step - loss: 0.4358 - accuracy: 0.8321\n",
            "Epoch 53/100\n",
            "9/9 [==============================] - 0s 2ms/step - loss: 0.4332 - accuracy: 0.8357\n",
            "Epoch 54/100\n",
            "9/9 [==============================] - 0s 2ms/step - loss: 0.4305 - accuracy: 0.8357\n",
            "Epoch 55/100\n",
            "9/9 [==============================] - 0s 2ms/step - loss: 0.4281 - accuracy: 0.8357\n",
            "Epoch 56/100\n",
            "9/9 [==============================] - 0s 2ms/step - loss: 0.4255 - accuracy: 0.8357\n",
            "Epoch 57/100\n",
            "9/9 [==============================] - 0s 2ms/step - loss: 0.4232 - accuracy: 0.8357\n",
            "Epoch 58/100\n",
            "9/9 [==============================] - 0s 2ms/step - loss: 0.4208 - accuracy: 0.8357\n",
            "Epoch 59/100\n",
            "9/9 [==============================] - 0s 2ms/step - loss: 0.4186 - accuracy: 0.8429\n",
            "Epoch 60/100\n",
            "9/9 [==============================] - 0s 3ms/step - loss: 0.4162 - accuracy: 0.8429\n",
            "Epoch 61/100\n",
            "9/9 [==============================] - 0s 2ms/step - loss: 0.4141 - accuracy: 0.8464\n",
            "Epoch 62/100\n",
            "9/9 [==============================] - 0s 2ms/step - loss: 0.4119 - accuracy: 0.8464\n",
            "Epoch 63/100\n",
            "9/9 [==============================] - 0s 2ms/step - loss: 0.4098 - accuracy: 0.8500\n",
            "Epoch 64/100\n",
            "9/9 [==============================] - 0s 2ms/step - loss: 0.4079 - accuracy: 0.8500\n",
            "Epoch 65/100\n",
            "9/9 [==============================] - 0s 2ms/step - loss: 0.4059 - accuracy: 0.8500\n",
            "Epoch 66/100\n",
            "9/9 [==============================] - 0s 2ms/step - loss: 0.4039 - accuracy: 0.8500\n",
            "Epoch 67/100\n",
            "9/9 [==============================] - 0s 2ms/step - loss: 0.4020 - accuracy: 0.8500\n",
            "Epoch 68/100\n",
            "9/9 [==============================] - 0s 2ms/step - loss: 0.4002 - accuracy: 0.8500\n",
            "Epoch 69/100\n",
            "9/9 [==============================] - 0s 2ms/step - loss: 0.3984 - accuracy: 0.8500\n",
            "Epoch 70/100\n",
            "9/9 [==============================] - 0s 2ms/step - loss: 0.3966 - accuracy: 0.8500\n",
            "Epoch 71/100\n",
            "9/9 [==============================] - 0s 2ms/step - loss: 0.3948 - accuracy: 0.8500\n",
            "Epoch 72/100\n",
            "9/9 [==============================] - 0s 2ms/step - loss: 0.3931 - accuracy: 0.8500\n",
            "Epoch 73/100\n",
            "9/9 [==============================] - 0s 3ms/step - loss: 0.3914 - accuracy: 0.8500\n",
            "Epoch 74/100\n",
            "9/9 [==============================] - 0s 2ms/step - loss: 0.3898 - accuracy: 0.8500\n",
            "Epoch 75/100\n",
            "9/9 [==============================] - 0s 2ms/step - loss: 0.3883 - accuracy: 0.8500\n",
            "Epoch 76/100\n",
            "9/9 [==============================] - 0s 2ms/step - loss: 0.3866 - accuracy: 0.8536\n",
            "Epoch 77/100\n",
            "9/9 [==============================] - 0s 2ms/step - loss: 0.3851 - accuracy: 0.8536\n",
            "Epoch 78/100\n",
            "9/9 [==============================] - 0s 2ms/step - loss: 0.3836 - accuracy: 0.8536\n",
            "Epoch 79/100\n",
            "9/9 [==============================] - 0s 2ms/step - loss: 0.3821 - accuracy: 0.8571\n",
            "Epoch 80/100\n",
            "9/9 [==============================] - 0s 2ms/step - loss: 0.3807 - accuracy: 0.8571\n",
            "Epoch 81/100\n",
            "9/9 [==============================] - 0s 2ms/step - loss: 0.3793 - accuracy: 0.8571\n",
            "Epoch 82/100\n",
            "9/9 [==============================] - 0s 2ms/step - loss: 0.3779 - accuracy: 0.8571\n",
            "Epoch 83/100\n",
            "9/9 [==============================] - 0s 2ms/step - loss: 0.3765 - accuracy: 0.8571\n",
            "Epoch 84/100\n",
            "9/9 [==============================] - 0s 2ms/step - loss: 0.3751 - accuracy: 0.8607\n",
            "Epoch 85/100\n",
            "9/9 [==============================] - 0s 2ms/step - loss: 0.3739 - accuracy: 0.8607\n",
            "Epoch 86/100\n",
            "9/9 [==============================] - 0s 2ms/step - loss: 0.3725 - accuracy: 0.8607\n",
            "Epoch 87/100\n",
            "9/9 [==============================] - 0s 3ms/step - loss: 0.3712 - accuracy: 0.8607\n",
            "Epoch 88/100\n",
            "9/9 [==============================] - 0s 2ms/step - loss: 0.3700 - accuracy: 0.8607\n",
            "Epoch 89/100\n",
            "9/9 [==============================] - 0s 2ms/step - loss: 0.3688 - accuracy: 0.8607\n",
            "Epoch 90/100\n",
            "9/9 [==============================] - 0s 2ms/step - loss: 0.3675 - accuracy: 0.8607\n",
            "Epoch 91/100\n",
            "9/9 [==============================] - 0s 2ms/step - loss: 0.3664 - accuracy: 0.8607\n",
            "Epoch 92/100\n",
            "9/9 [==============================] - 0s 2ms/step - loss: 0.3652 - accuracy: 0.8607\n",
            "Epoch 93/100\n",
            "9/9 [==============================] - 0s 2ms/step - loss: 0.3640 - accuracy: 0.8607\n",
            "Epoch 94/100\n",
            "9/9 [==============================] - 0s 2ms/step - loss: 0.3628 - accuracy: 0.8607\n",
            "Epoch 95/100\n",
            "9/9 [==============================] - 0s 2ms/step - loss: 0.3618 - accuracy: 0.8607\n",
            "Epoch 96/100\n",
            "9/9 [==============================] - 0s 2ms/step - loss: 0.3606 - accuracy: 0.8607\n",
            "Epoch 97/100\n",
            "9/9 [==============================] - 0s 2ms/step - loss: 0.3596 - accuracy: 0.8607\n",
            "Epoch 98/100\n",
            "9/9 [==============================] - 0s 2ms/step - loss: 0.3586 - accuracy: 0.8607\n",
            "Epoch 99/100\n",
            "9/9 [==============================] - 0s 2ms/step - loss: 0.3575 - accuracy: 0.8607\n",
            "Epoch 100/100\n",
            "9/9 [==============================] - 0s 2ms/step - loss: 0.3567 - accuracy: 0.8607\n",
            "{'loss': [1.1350088119506836, 1.0890647172927856, 1.0444140434265137, 1.0022627115249634, 0.9612841010093689, 0.9239680767059326, 0.8891333341598511, 0.8565574288368225, 0.826191246509552, 0.7966946959495544, 0.7702762484550476, 0.7473459839820862, 0.724703311920166, 0.7046301364898682, 0.6848136186599731, 0.668053925037384, 0.652406632900238, 0.6376939415931702, 0.623819887638092, 0.6117163896560669, 0.5996682047843933, 0.589287281036377, 0.5794243216514587, 0.5702087879180908, 0.5611906051635742, 0.5531185865402222, 0.5452073812484741, 0.5381959676742554, 0.5313242077827454, 0.5250256657600403, 0.5189797878265381, 0.5131341218948364, 0.507696807384491, 0.5023558735847473, 0.4971064031124115, 0.4926348626613617, 0.4879075586795807, 0.48378393054008484, 0.47926411032676697, 0.47536638379096985, 0.4714387059211731, 0.46742644906044006, 0.4638592302799225, 0.4604153335094452, 0.45705646276474, 0.4536004066467285, 0.45044150948524475, 0.44733932614326477, 0.4444858729839325, 0.4413948953151703, 0.43846145272254944, 0.4357878565788269, 0.4332408308982849, 0.43052938580513, 0.42811599373817444, 0.4255293309688568, 0.4231923520565033, 0.4208238124847412, 0.4185590147972107, 0.41624143719673157, 0.4141090512275696, 0.4119480550289154, 0.40981754660606384, 0.4079020917415619, 0.40590164065361023, 0.40386104583740234, 0.4020329713821411, 0.4002232551574707, 0.3983672559261322, 0.3966224193572998, 0.39477527141571045, 0.393074095249176, 0.39140188694000244, 0.3897504508495331, 0.38825303316116333, 0.3865868151187897, 0.38513681292533875, 0.38361528515815735, 0.3820854723453522, 0.38065147399902344, 0.37930533289909363, 0.37789928913116455, 0.3764934539794922, 0.37508535385131836, 0.37390491366386414, 0.3725211024284363, 0.37120574712753296, 0.3699890673160553, 0.3687770962715149, 0.3674977421760559, 0.36636289954185486, 0.3652135729789734, 0.36404600739479065, 0.36282849311828613, 0.3617570996284485, 0.3606063723564148, 0.3595975339412689, 0.35856130719184875, 0.3575431704521179, 0.35665738582611084], 'accuracy': [0.3321428596973419, 0.34285715222358704, 0.3499999940395355, 0.3571428656578064, 0.36071428656578064, 0.3642857074737549, 0.37857142090797424, 0.3857142925262451, 0.4035714268684387, 0.4178571403026581, 0.4464285671710968, 0.4535714387893677, 0.46071428060531616, 0.48571428656578064, 0.5464285612106323, 0.5928571224212646, 0.6357142925262451, 0.6642857193946838, 0.6928571462631226, 0.7142857313156128, 0.7357142567634583, 0.7464285492897034, 0.7428571581840515, 0.7535714507102966, 0.7571428418159485, 0.7642857432365417, 0.7749999761581421, 0.7857142686843872, 0.7857142686843872, 0.7892857193946838, 0.7928571701049805, 0.7928571701049805, 0.800000011920929, 0.800000011920929, 0.8035714030265808, 0.8035714030265808, 0.8035714030265808, 0.8107143044471741, 0.8142856955528259, 0.8071428537368774, 0.8071428537368774, 0.8071428537368774, 0.8142856955528259, 0.8178571462631226, 0.8178571462631226, 0.8214285969734192, 0.8214285969734192, 0.824999988079071, 0.8285714387893677, 0.8285714387893677, 0.8285714387893677, 0.8321428298950195, 0.8357142806053162, 0.8357142806053162, 0.8357142806053162, 0.8357142806053162, 0.8357142806053162, 0.8357142806053162, 0.8428571224212646, 0.8428571224212646, 0.8464285731315613, 0.8464285731315613, 0.8500000238418579, 0.8500000238418579, 0.8500000238418579, 0.8500000238418579, 0.8500000238418579, 0.8500000238418579, 0.8500000238418579, 0.8500000238418579, 0.8500000238418579, 0.8500000238418579, 0.8500000238418579, 0.8500000238418579, 0.8500000238418579, 0.8535714149475098, 0.8535714149475098, 0.8535714149475098, 0.8571428656578064, 0.8571428656578064, 0.8571428656578064, 0.8571428656578064, 0.8571428656578064, 0.8607142567634583, 0.8607142567634583, 0.8607142567634583, 0.8607142567634583, 0.8607142567634583, 0.8607142567634583, 0.8607142567634583, 0.8607142567634583, 0.8607142567634583, 0.8607142567634583, 0.8607142567634583, 0.8607142567634583, 0.8607142567634583, 0.8607142567634583, 0.8607142567634583, 0.8607142567634583, 0.8607142567634583]}\n"
          ]
        }
      ],
      "source": [
        "history = model.fit(train_set_X, train_set_Y, batch_size=32, epochs=100)  # history records what happened over the course of training\n",
        "print(history.history)  # print per-epoch timeseries of metrics values"
      ]
    },
    {
      "cell_type": "markdown",
      "metadata": {
        "id": "N8nkXUyWGy-L"
      },
      "source": [
        "## Avaliação do Modelo\n",
        "\n",
        "Avalia o desempenho da rede no conjunto de teste.\n",
        "\n",
        "Documentação: https://keras.io/api/models/model_training_apis/"
      ]
    },
    {
      "cell_type": "code",
      "execution_count": 14,
      "metadata": {
        "vscode": {
          "languageId": "python"
        },
        "id": "oMkGEYlAGy-M",
        "outputId": "8a6ad0b7-28fc-41d8-d722-16f0634107ec",
        "colab": {
          "base_uri": "https://localhost:8080/"
        }
      },
      "outputs": [
        {
          "output_type": "stream",
          "name": "stdout",
          "text": [
            "3/3 [==============================] - 0s 5ms/step - loss: 0.4779 - accuracy: 0.8592\n",
            "loss: 0.48\n",
            "acc: 0.86\n"
          ]
        }
      ],
      "source": [
        "loss, acc = model.evaluate(test_set_X, test_set_Y)\n",
        "print(\"loss: %.2f\" % loss)\n",
        "print(\"acc: %.2f\" % acc)"
      ]
    },
    {
      "cell_type": "markdown",
      "metadata": {
        "id": "rgJU1Fi6Gy-N"
      },
      "source": [
        "## Predição\n",
        "\n",
        "Prediz a saída de novos dados.\n",
        "\n",
        "Documentação: https://keras.io/api/models/model_training_apis/"
      ]
    },
    {
      "cell_type": "code",
      "execution_count": 15,
      "metadata": {
        "vscode": {
          "languageId": "python"
        },
        "id": "rw05jIP9Gy-O",
        "outputId": "36a93850-8ab6-444d-f35a-792b7f0605f7",
        "colab": {
          "base_uri": "https://localhost:8080/"
        }
      },
      "outputs": [
        {
          "output_type": "stream",
          "name": "stdout",
          "text": [
            "3/3 [==============================] - 0s 3ms/step\n",
            "Predictions:  [1, 1, 1, 1, 1, 1, 0, 1, 1, 1, 1, 0, 0, 1, 1, 0, 0, 1, 0, 1, 1, 0, 1, 0, 1, 1, 0, 0, 1, 1, 1, 1, 0, 1, 1, 1, 1, 1, 1, 0, 0, 1, 1, 0, 0, 1, 1, 0, 0, 0, 1, 0, 1, 1, 1, 1, 1, 0, 1, 1, 1, 1, 0, 0, 1, 1, 1, 1, 1, 1, 0]\n",
            "\n",
            "Correct:      [1, 1, 1, 1, 1, 1, 1, 1, 1, 1, 1, 1, 0, 1, 1, 0, 0, 0, 0, 1, 1, 0, 0, 0, 1, 1, 0, 1, 1, 1, 1, 1, 0, 1, 1, 1, 1, 0, 1, 0, 0, 1, 1, 0, 0, 1, 1, 0, 0, 0, 1, 1, 0, 1, 1, 1, 1, 0, 1, 1, 1, 1, 0, 0, 1, 1, 1, 1, 1, 0, 1]\n"
          ]
        }
      ],
      "source": [
        "predictions = model.predict(test_set_X)\n",
        "print(\"Predictions: \", [round(x[0]) for x in predictions])\n",
        "print(\"\\nCorrect:     \", [round(x) for x in test_set_Y])"
      ]
    },
    {
      "cell_type": "markdown",
      "metadata": {
        "id": "1TU0Dwe9Gy-O"
      },
      "source": [
        "# Fim\n",
        "\n",
        "Esses foram os passos para criação de uma rede neural simples, composta de um único neurônio.\n",
        "\n",
        "Com o incremento do número de camadas, a rede é capaz de aprender atributos mais complexos.\n",
        "A seguir, vamos criar uma rede neural com mais camadas e aplicá-la para resolver o mesmo problema de classificação anterior.\n",
        "\n",
        "-------------------------------------------"
      ]
    },
    {
      "cell_type": "markdown",
      "metadata": {
        "id": "v1PdFFa0Gy-P"
      },
      "source": [
        "# Nova Arquitetura\n",
        "\n",
        "Vamos criar agora um novo modelo, seguindo a arquitetura abaixo:\n",
        "\n",
        "![arquitetura-rede-neural.png](attachment:arquitetura-rede-neural.png)\n",
        "\n",
        "**Medindo o tamanho de uma rede:**\n",
        "As duas métricas mais comumente usadas são o número de neurônios e o número de parâmetros (mais comum). A rede acima, considerando 33 atributos de entrada, tem:\n",
        "- 3 + 4 + 1 = 8 neurônios (não contando as entradas) e\n",
        "- (33 x 3) + (3 x 4) + (4 x 1) = 115 pesos e 3 + 4 + 1 = 8 biases, totalizando 123 parâmetros a serem aprendidos."
      ]
    },
    {
      "cell_type": "markdown",
      "metadata": {
        "id": "6lho3m_SGy-P"
      },
      "source": [
        "## Definição do Modelo em Keras"
      ]
    },
    {
      "cell_type": "code",
      "execution_count": 16,
      "metadata": {
        "vscode": {
          "languageId": "python"
        },
        "id": "4A9YuGpBGy-Q"
      },
      "outputs": [],
      "source": [
        "inputs = keras.Input(shape=(train_set_X.shape[1]))  # the shape of inputs (number of attributes)\n",
        "x = keras.layers.Dense(units=3, activation=\"relu\")(inputs)  ## first layer, 3 neurons, activation function ReLu\n",
        "x = keras.layers.Dense(units=4, activation=\"relu\")(x)  ## second layer, 4 neurons, activation function ReLu\n",
        "outputs = keras.layers.Dense(units=1, activation=\"sigmoid\")(x)  # output layer, 1 neuron, activation function Sigmoid\n",
        "model = keras.Model(inputs=inputs, outputs=outputs)  # instantiate a Model object"
      ]
    },
    {
      "cell_type": "code",
      "execution_count": 17,
      "metadata": {
        "vscode": {
          "languageId": "python"
        },
        "id": "rWPKpnS8Gy-Q",
        "outputId": "9be1bf11-adb4-44b1-ef42-c65f7d1dbfd1",
        "colab": {
          "base_uri": "https://localhost:8080/"
        }
      },
      "outputs": [
        {
          "output_type": "stream",
          "name": "stdout",
          "text": [
            "Model: \"model_1\"\n",
            "_________________________________________________________________\n",
            " Layer (type)                Output Shape              Param #   \n",
            "=================================================================\n",
            " input_2 (InputLayer)        [(None, 33)]              0         \n",
            "                                                                 \n",
            " dense_1 (Dense)             (None, 3)                 102       \n",
            "                                                                 \n",
            " dense_2 (Dense)             (None, 4)                 16        \n",
            "                                                                 \n",
            " dense_3 (Dense)             (None, 1)                 5         \n",
            "                                                                 \n",
            "=================================================================\n",
            "Total params: 123\n",
            "Trainable params: 123\n",
            "Non-trainable params: 0\n",
            "_________________________________________________________________\n"
          ]
        }
      ],
      "source": [
        "# Prints a summary of the network, showing its architecture and parameters.\n",
        "model.summary()"
      ]
    },
    {
      "cell_type": "markdown",
      "metadata": {
        "id": "rnXwEfhjGy-R"
      },
      "source": [
        "## Compilação do Modelo"
      ]
    },
    {
      "cell_type": "code",
      "execution_count": 18,
      "metadata": {
        "vscode": {
          "languageId": "python"
        },
        "id": "ejXO40LhGy-S"
      },
      "outputs": [],
      "source": [
        "model.compile(optimizer=\"adam\", loss=\"binary_crossentropy\", metrics=[\"accuracy\"])"
      ]
    },
    {
      "cell_type": "markdown",
      "metadata": {
        "id": "xSEcvMDWGy-T"
      },
      "source": [
        "## Treinamento do Modelo"
      ]
    },
    {
      "cell_type": "code",
      "execution_count": 19,
      "metadata": {
        "vscode": {
          "languageId": "python"
        },
        "id": "PPkN4amgGy-U",
        "outputId": "d045877e-b008-47f2-c998-6b49e3cefad4",
        "colab": {
          "base_uri": "https://localhost:8080/"
        }
      },
      "outputs": [
        {
          "output_type": "stream",
          "name": "stdout",
          "text": [
            "Epoch 1/100\n",
            "9/9 [==============================] - 1s 2ms/step - loss: 0.6981 - accuracy: 0.4536\n",
            "Epoch 2/100\n",
            "9/9 [==============================] - 0s 2ms/step - loss: 0.6837 - accuracy: 0.4821\n",
            "Epoch 3/100\n",
            "9/9 [==============================] - 0s 2ms/step - loss: 0.6716 - accuracy: 0.5071\n",
            "Epoch 4/100\n",
            "9/9 [==============================] - 0s 3ms/step - loss: 0.6620 - accuracy: 0.5536\n",
            "Epoch 5/100\n",
            "9/9 [==============================] - 0s 2ms/step - loss: 0.6524 - accuracy: 0.7000\n",
            "Epoch 6/100\n",
            "9/9 [==============================] - 0s 2ms/step - loss: 0.6441 - accuracy: 0.7500\n",
            "Epoch 7/100\n",
            "9/9 [==============================] - 0s 2ms/step - loss: 0.6374 - accuracy: 0.7607\n",
            "Epoch 8/100\n",
            "9/9 [==============================] - 0s 2ms/step - loss: 0.6303 - accuracy: 0.7857\n",
            "Epoch 9/100\n",
            "9/9 [==============================] - 0s 4ms/step - loss: 0.6236 - accuracy: 0.8000\n",
            "Epoch 10/100\n",
            "9/9 [==============================] - 0s 2ms/step - loss: 0.6156 - accuracy: 0.8036\n",
            "Epoch 11/100\n",
            "9/9 [==============================] - 0s 2ms/step - loss: 0.6080 - accuracy: 0.8179\n",
            "Epoch 12/100\n",
            "9/9 [==============================] - 0s 2ms/step - loss: 0.5995 - accuracy: 0.8179\n",
            "Epoch 13/100\n",
            "9/9 [==============================] - 0s 2ms/step - loss: 0.5903 - accuracy: 0.8250\n",
            "Epoch 14/100\n",
            "9/9 [==============================] - 0s 3ms/step - loss: 0.5801 - accuracy: 0.8250\n",
            "Epoch 15/100\n",
            "9/9 [==============================] - 0s 3ms/step - loss: 0.5687 - accuracy: 0.8357\n",
            "Epoch 16/100\n",
            "9/9 [==============================] - 0s 2ms/step - loss: 0.5574 - accuracy: 0.8464\n",
            "Epoch 17/100\n",
            "9/9 [==============================] - 0s 2ms/step - loss: 0.5451 - accuracy: 0.8500\n",
            "Epoch 18/100\n",
            "9/9 [==============================] - 0s 2ms/step - loss: 0.5321 - accuracy: 0.8536\n",
            "Epoch 19/100\n",
            "9/9 [==============================] - 0s 2ms/step - loss: 0.5188 - accuracy: 0.8500\n",
            "Epoch 20/100\n",
            "9/9 [==============================] - 0s 3ms/step - loss: 0.5059 - accuracy: 0.8500\n",
            "Epoch 21/100\n",
            "9/9 [==============================] - 0s 3ms/step - loss: 0.4924 - accuracy: 0.8607\n",
            "Epoch 22/100\n",
            "9/9 [==============================] - 0s 2ms/step - loss: 0.4791 - accuracy: 0.8679\n",
            "Epoch 23/100\n",
            "9/9 [==============================] - 0s 2ms/step - loss: 0.4661 - accuracy: 0.8679\n",
            "Epoch 24/100\n",
            "9/9 [==============================] - 0s 3ms/step - loss: 0.4541 - accuracy: 0.8643\n",
            "Epoch 25/100\n",
            "9/9 [==============================] - 0s 3ms/step - loss: 0.4418 - accuracy: 0.8679\n",
            "Epoch 26/100\n",
            "9/9 [==============================] - 0s 3ms/step - loss: 0.4300 - accuracy: 0.8714\n",
            "Epoch 27/100\n",
            "9/9 [==============================] - 0s 3ms/step - loss: 0.4189 - accuracy: 0.8679\n",
            "Epoch 28/100\n",
            "9/9 [==============================] - 0s 2ms/step - loss: 0.4088 - accuracy: 0.8714\n",
            "Epoch 29/100\n",
            "9/9 [==============================] - 0s 3ms/step - loss: 0.3982 - accuracy: 0.8679\n",
            "Epoch 30/100\n",
            "9/9 [==============================] - 0s 2ms/step - loss: 0.3894 - accuracy: 0.8714\n",
            "Epoch 31/100\n",
            "9/9 [==============================] - 0s 2ms/step - loss: 0.3804 - accuracy: 0.8750\n",
            "Epoch 32/100\n",
            "9/9 [==============================] - 0s 2ms/step - loss: 0.3711 - accuracy: 0.8786\n",
            "Epoch 33/100\n",
            "9/9 [==============================] - 0s 2ms/step - loss: 0.3630 - accuracy: 0.8893\n",
            "Epoch 34/100\n",
            "9/9 [==============================] - 0s 2ms/step - loss: 0.3549 - accuracy: 0.8929\n",
            "Epoch 35/100\n",
            "9/9 [==============================] - 0s 2ms/step - loss: 0.3477 - accuracy: 0.8929\n",
            "Epoch 36/100\n",
            "9/9 [==============================] - 0s 2ms/step - loss: 0.3406 - accuracy: 0.9000\n",
            "Epoch 37/100\n",
            "9/9 [==============================] - 0s 2ms/step - loss: 0.3340 - accuracy: 0.9000\n",
            "Epoch 38/100\n",
            "9/9 [==============================] - 0s 2ms/step - loss: 0.3280 - accuracy: 0.8964\n",
            "Epoch 39/100\n",
            "9/9 [==============================] - 0s 2ms/step - loss: 0.3219 - accuracy: 0.8964\n",
            "Epoch 40/100\n",
            "9/9 [==============================] - 0s 2ms/step - loss: 0.3156 - accuracy: 0.8964\n",
            "Epoch 41/100\n",
            "9/9 [==============================] - 0s 2ms/step - loss: 0.3101 - accuracy: 0.8964\n",
            "Epoch 42/100\n",
            "9/9 [==============================] - 0s 2ms/step - loss: 0.3047 - accuracy: 0.8964\n",
            "Epoch 43/100\n",
            "9/9 [==============================] - 0s 2ms/step - loss: 0.2994 - accuracy: 0.9000\n",
            "Epoch 44/100\n",
            "9/9 [==============================] - 0s 3ms/step - loss: 0.2937 - accuracy: 0.9036\n",
            "Epoch 45/100\n",
            "9/9 [==============================] - 0s 2ms/step - loss: 0.2881 - accuracy: 0.9036\n",
            "Epoch 46/100\n",
            "9/9 [==============================] - 0s 2ms/step - loss: 0.2827 - accuracy: 0.9036\n",
            "Epoch 47/100\n",
            "9/9 [==============================] - 0s 2ms/step - loss: 0.2775 - accuracy: 0.9071\n",
            "Epoch 48/100\n",
            "9/9 [==============================] - 0s 2ms/step - loss: 0.2717 - accuracy: 0.9143\n",
            "Epoch 49/100\n",
            "9/9 [==============================] - 0s 3ms/step - loss: 0.2670 - accuracy: 0.9071\n",
            "Epoch 50/100\n",
            "9/9 [==============================] - 0s 3ms/step - loss: 0.2621 - accuracy: 0.9143\n",
            "Epoch 51/100\n",
            "9/9 [==============================] - 0s 3ms/step - loss: 0.2576 - accuracy: 0.9143\n",
            "Epoch 52/100\n",
            "9/9 [==============================] - 0s 3ms/step - loss: 0.2535 - accuracy: 0.9179\n",
            "Epoch 53/100\n",
            "9/9 [==============================] - 0s 4ms/step - loss: 0.2498 - accuracy: 0.9214\n",
            "Epoch 54/100\n",
            "9/9 [==============================] - 0s 2ms/step - loss: 0.2463 - accuracy: 0.9214\n",
            "Epoch 55/100\n",
            "9/9 [==============================] - 0s 2ms/step - loss: 0.2433 - accuracy: 0.9214\n",
            "Epoch 56/100\n",
            "9/9 [==============================] - 0s 2ms/step - loss: 0.2406 - accuracy: 0.9214\n",
            "Epoch 57/100\n",
            "9/9 [==============================] - 0s 2ms/step - loss: 0.2375 - accuracy: 0.9250\n",
            "Epoch 58/100\n",
            "9/9 [==============================] - 0s 2ms/step - loss: 0.2345 - accuracy: 0.9250\n",
            "Epoch 59/100\n",
            "9/9 [==============================] - 0s 2ms/step - loss: 0.2322 - accuracy: 0.9250\n",
            "Epoch 60/100\n",
            "9/9 [==============================] - 0s 2ms/step - loss: 0.2295 - accuracy: 0.9250\n",
            "Epoch 61/100\n",
            "9/9 [==============================] - 0s 2ms/step - loss: 0.2277 - accuracy: 0.9250\n",
            "Epoch 62/100\n",
            "9/9 [==============================] - 0s 2ms/step - loss: 0.2252 - accuracy: 0.9250\n",
            "Epoch 63/100\n",
            "9/9 [==============================] - 0s 2ms/step - loss: 0.2231 - accuracy: 0.9286\n",
            "Epoch 64/100\n",
            "9/9 [==============================] - 0s 2ms/step - loss: 0.2209 - accuracy: 0.9250\n",
            "Epoch 65/100\n",
            "9/9 [==============================] - 0s 2ms/step - loss: 0.2189 - accuracy: 0.9250\n",
            "Epoch 66/100\n",
            "9/9 [==============================] - 0s 3ms/step - loss: 0.2168 - accuracy: 0.9250\n",
            "Epoch 67/100\n",
            "9/9 [==============================] - 0s 2ms/step - loss: 0.2152 - accuracy: 0.9286\n",
            "Epoch 68/100\n",
            "9/9 [==============================] - 0s 2ms/step - loss: 0.2136 - accuracy: 0.9286\n",
            "Epoch 69/100\n",
            "9/9 [==============================] - 0s 2ms/step - loss: 0.2118 - accuracy: 0.9286\n",
            "Epoch 70/100\n",
            "9/9 [==============================] - 0s 2ms/step - loss: 0.2098 - accuracy: 0.9286\n",
            "Epoch 71/100\n",
            "9/9 [==============================] - 0s 2ms/step - loss: 0.2086 - accuracy: 0.9286\n",
            "Epoch 72/100\n",
            "9/9 [==============================] - 0s 3ms/step - loss: 0.2068 - accuracy: 0.9321\n",
            "Epoch 73/100\n",
            "9/9 [==============================] - 0s 3ms/step - loss: 0.2054 - accuracy: 0.9321\n",
            "Epoch 74/100\n",
            "9/9 [==============================] - 0s 3ms/step - loss: 0.2037 - accuracy: 0.9321\n",
            "Epoch 75/100\n",
            "9/9 [==============================] - 0s 2ms/step - loss: 0.2022 - accuracy: 0.9321\n",
            "Epoch 76/100\n",
            "9/9 [==============================] - 0s 2ms/step - loss: 0.2010 - accuracy: 0.9321\n",
            "Epoch 77/100\n",
            "9/9 [==============================] - 0s 2ms/step - loss: 0.1998 - accuracy: 0.9321\n",
            "Epoch 78/100\n",
            "9/9 [==============================] - 0s 2ms/step - loss: 0.1980 - accuracy: 0.9321\n",
            "Epoch 79/100\n",
            "9/9 [==============================] - 0s 2ms/step - loss: 0.1966 - accuracy: 0.9321\n",
            "Epoch 80/100\n",
            "9/9 [==============================] - 0s 2ms/step - loss: 0.1960 - accuracy: 0.9321\n",
            "Epoch 81/100\n",
            "9/9 [==============================] - 0s 2ms/step - loss: 0.1942 - accuracy: 0.9321\n",
            "Epoch 82/100\n",
            "9/9 [==============================] - 0s 2ms/step - loss: 0.1930 - accuracy: 0.9321\n",
            "Epoch 83/100\n",
            "9/9 [==============================] - 0s 3ms/step - loss: 0.1918 - accuracy: 0.9321\n",
            "Epoch 84/100\n",
            "9/9 [==============================] - 0s 3ms/step - loss: 0.1907 - accuracy: 0.9321\n",
            "Epoch 85/100\n",
            "9/9 [==============================] - 0s 3ms/step - loss: 0.1899 - accuracy: 0.9357\n",
            "Epoch 86/100\n",
            "9/9 [==============================] - 0s 2ms/step - loss: 0.1881 - accuracy: 0.9357\n",
            "Epoch 87/100\n",
            "9/9 [==============================] - 0s 2ms/step - loss: 0.1867 - accuracy: 0.9357\n",
            "Epoch 88/100\n",
            "9/9 [==============================] - 0s 4ms/step - loss: 0.1859 - accuracy: 0.9357\n",
            "Epoch 89/100\n",
            "9/9 [==============================] - 0s 2ms/step - loss: 0.1846 - accuracy: 0.9357\n",
            "Epoch 90/100\n",
            "9/9 [==============================] - 0s 3ms/step - loss: 0.1836 - accuracy: 0.9357\n",
            "Epoch 91/100\n",
            "9/9 [==============================] - 0s 2ms/step - loss: 0.1823 - accuracy: 0.9393\n",
            "Epoch 92/100\n",
            "9/9 [==============================] - 0s 2ms/step - loss: 0.1812 - accuracy: 0.9357\n",
            "Epoch 93/100\n",
            "9/9 [==============================] - 0s 2ms/step - loss: 0.1800 - accuracy: 0.9393\n",
            "Epoch 94/100\n",
            "9/9 [==============================] - 0s 2ms/step - loss: 0.1793 - accuracy: 0.9429\n",
            "Epoch 95/100\n",
            "9/9 [==============================] - 0s 2ms/step - loss: 0.1779 - accuracy: 0.9429\n",
            "Epoch 96/100\n",
            "9/9 [==============================] - 0s 3ms/step - loss: 0.1771 - accuracy: 0.9429\n",
            "Epoch 97/100\n",
            "9/9 [==============================] - 0s 2ms/step - loss: 0.1760 - accuracy: 0.9429\n",
            "Epoch 98/100\n",
            "9/9 [==============================] - 0s 2ms/step - loss: 0.1750 - accuracy: 0.9429\n",
            "Epoch 99/100\n",
            "9/9 [==============================] - 0s 3ms/step - loss: 0.1741 - accuracy: 0.9429\n",
            "Epoch 100/100\n",
            "9/9 [==============================] - 0s 2ms/step - loss: 0.1730 - accuracy: 0.9464\n",
            "{'loss': [0.6980898976325989, 0.6836807131767273, 0.671606719493866, 0.6619749069213867, 0.6524057388305664, 0.6441064476966858, 0.637358546257019, 0.6303425431251526, 0.623628556728363, 0.6156367063522339, 0.6080250144004822, 0.5994939208030701, 0.5902999639511108, 0.5800992846488953, 0.5687419176101685, 0.5573686361312866, 0.545059323310852, 0.5320988893508911, 0.5188394784927368, 0.5059128999710083, 0.4924198091030121, 0.4790732264518738, 0.4661429822444916, 0.4541204571723938, 0.441839337348938, 0.4300486743450165, 0.4189054071903229, 0.40880751609802246, 0.39821767807006836, 0.38939720392227173, 0.3804287612438202, 0.3710571825504303, 0.36301183700561523, 0.35489293932914734, 0.34770864248275757, 0.34055739641189575, 0.33399513363838196, 0.32796940207481384, 0.3218703866004944, 0.3156449496746063, 0.31007176637649536, 0.3047342598438263, 0.29936620593070984, 0.2936840355396271, 0.2880876660346985, 0.28273412585258484, 0.27746865153312683, 0.271684467792511, 0.2670181393623352, 0.2620893120765686, 0.25760045647621155, 0.2534893751144409, 0.2498452365398407, 0.24628086388111115, 0.2433190792798996, 0.24056968092918396, 0.23754280805587769, 0.2345140129327774, 0.23216457664966583, 0.22952695190906525, 0.22765420377254486, 0.22522816061973572, 0.22308947145938873, 0.22092878818511963, 0.21889932453632355, 0.2167786806821823, 0.21521896123886108, 0.21361245214939117, 0.21181978285312653, 0.20980867743492126, 0.20860327780246735, 0.20683522522449493, 0.2054288387298584, 0.2037036120891571, 0.20223529636859894, 0.20099754631519318, 0.1997808963060379, 0.19802504777908325, 0.1966436207294464, 0.19601161777973175, 0.19423556327819824, 0.19297289848327637, 0.19182604551315308, 0.19068023562431335, 0.189863383769989, 0.18810534477233887, 0.1867387294769287, 0.18592798709869385, 0.18457405269145966, 0.1835898607969284, 0.1823355257511139, 0.1812012940645218, 0.18004781007766724, 0.1792588233947754, 0.17790928483009338, 0.17707514762878418, 0.1760360151529312, 0.17501437664031982, 0.17407947778701782, 0.172987699508667], 'accuracy': [0.4535714387893677, 0.4821428656578064, 0.5071428418159485, 0.5535714030265808, 0.699999988079071, 0.75, 0.7607142925262451, 0.7857142686843872, 0.800000011920929, 0.8035714030265808, 0.8178571462631226, 0.8178571462631226, 0.824999988079071, 0.824999988079071, 0.8357142806053162, 0.8464285731315613, 0.8500000238418579, 0.8535714149475098, 0.8500000238418579, 0.8500000238418579, 0.8607142567634583, 0.8678571581840515, 0.8678571581840515, 0.8642857074737549, 0.8678571581840515, 0.8714285492897034, 0.8678571581840515, 0.8714285492897034, 0.8678571581840515, 0.8714285492897034, 0.875, 0.8785714507102966, 0.8892857432365417, 0.8928571343421936, 0.8928571343421936, 0.8999999761581421, 0.8999999761581421, 0.8964285850524902, 0.8964285850524902, 0.8964285850524902, 0.8964285850524902, 0.8964285850524902, 0.8999999761581421, 0.9035714268684387, 0.9035714268684387, 0.9035714268684387, 0.9071428775787354, 0.9142857193946838, 0.9071428775787354, 0.9142857193946838, 0.9142857193946838, 0.9178571701049805, 0.9214285612106323, 0.9214285612106323, 0.9214285612106323, 0.9214285612106323, 0.925000011920929, 0.925000011920929, 0.925000011920929, 0.925000011920929, 0.925000011920929, 0.925000011920929, 0.9285714030265808, 0.925000011920929, 0.925000011920929, 0.925000011920929, 0.9285714030265808, 0.9285714030265808, 0.9285714030265808, 0.9285714030265808, 0.9285714030265808, 0.9321428537368774, 0.9321428537368774, 0.9321428537368774, 0.9321428537368774, 0.9321428537368774, 0.9321428537368774, 0.9321428537368774, 0.9321428537368774, 0.9321428537368774, 0.9321428537368774, 0.9321428537368774, 0.9321428537368774, 0.9321428537368774, 0.9357143044471741, 0.9357143044471741, 0.9357143044471741, 0.9357143044471741, 0.9357143044471741, 0.9357143044471741, 0.9392856955528259, 0.9357143044471741, 0.9392856955528259, 0.9428571462631226, 0.9428571462631226, 0.9428571462631226, 0.9428571462631226, 0.9428571462631226, 0.9428571462631226, 0.9464285969734192]}\n"
          ]
        }
      ],
      "source": [
        "history = model.fit(train_set_X, train_set_Y, batch_size=32, epochs=100)  # history records what happened over the course of training\n",
        "print(history.history)  # print per-epoch timeseries of metrics values"
      ]
    },
    {
      "cell_type": "markdown",
      "metadata": {
        "id": "ee6GCkpOGy-U"
      },
      "source": [
        "## Avaliação do Modelo"
      ]
    },
    {
      "cell_type": "code",
      "execution_count": 23,
      "metadata": {
        "vscode": {
          "languageId": "python"
        },
        "id": "0ZG9KQLjGy-U",
        "outputId": "4f7136f3-7e6f-4c7c-cb41-ee6ff1218770",
        "colab": {
          "base_uri": "https://localhost:8080/"
        }
      },
      "outputs": [
        {
          "output_type": "stream",
          "name": "stdout",
          "text": [
            "9/9 [==============================] - 0s 2ms/step - loss: 0.1719 - accuracy: 0.9464\n",
            "loss: 0.17\n",
            "acc: 0.95\n"
          ]
        }
      ],
      "source": [
        "loss, acc = model.evaluate(train_set_X, train_set_Y)\n",
        "print(\"loss: %.2f\" % loss)\n",
        "print(\"acc: %.2f\" % acc)"
      ]
    },
    {
      "cell_type": "markdown",
      "metadata": {
        "id": "DPM1VVPzGy-V"
      },
      "source": [
        "## Predição"
      ]
    },
    {
      "cell_type": "code",
      "execution_count": 24,
      "metadata": {
        "vscode": {
          "languageId": "python"
        },
        "id": "E2dsX7AOGy-W",
        "outputId": "3d2a5133-758b-4421-cf7a-2698edccd541",
        "colab": {
          "base_uri": "https://localhost:8080/"
        }
      },
      "outputs": [
        {
          "output_type": "stream",
          "name": "stdout",
          "text": [
            "9/9 [==============================] - 0s 2ms/step\n",
            "Predictions:  [1, 1, 1, 1, 1, 0, 1, 1, 1, 1, 1, 0, 0, 0, 1, 0, 1, 1, 1, 1, 1, 1, 0, 1, 1, 0, 1, 0, 1, 1, 1, 1, 1, 1, 0, 1, 1, 1, 1, 0, 0, 0, 0, 1, 0, 1, 1, 0, 1, 0, 1, 1, 1, 1, 1, 1, 1, 1, 1, 1, 1, 1, 1, 0, 1, 1, 0, 0, 0, 0, 1, 1, 1, 1, 1, 0, 1, 1, 1, 1, 0, 1, 0, 1, 0, 1, 1, 1, 1, 1, 1, 0, 1, 1, 1, 1, 0, 1, 1, 1, 0, 0, 1, 0, 0, 0, 0, 1, 1, 1, 1, 1, 1, 0, 1, 1, 0, 0, 1, 1, 1, 0, 1, 1, 1, 0, 0, 1, 0, 1, 0, 0, 0, 0, 1, 0, 1, 1, 0, 1, 1, 0, 1, 1, 0, 1, 1, 0, 1, 1, 0, 1, 1, 1, 1, 1, 1, 1, 1, 0, 1, 1, 0, 0, 0, 0, 0, 0, 0, 0, 1, 1, 0, 1, 0, 0, 0, 1, 0, 0, 0, 1, 1, 1, 0, 1, 0, 0, 1, 1, 1, 1, 1, 0, 0, 1, 0, 1, 1, 1, 0, 1, 1, 1, 0, 1, 0, 0, 0, 1, 1, 1, 1, 0, 1, 1, 1, 0, 1, 0, 1, 1, 1, 1, 0, 1, 1, 0, 1, 1, 1, 0, 1, 1, 1, 1, 1, 1, 1, 0, 0, 1, 0, 1, 1, 1, 0, 1, 1, 1, 1, 1, 1, 1, 0, 1, 0, 1, 1, 1, 1, 1, 1, 0, 1, 0, 1, 1, 1, 0, 1, 1, 0, 1, 1, 1, 0, 0, 0, 1]\n",
            "\n",
            "Correct:      [1, 1, 1, 1, 1, 0, 1, 1, 1, 1, 1, 0, 0, 0, 1, 1, 1, 1, 1, 1, 1, 1, 0, 1, 1, 0, 1, 0, 1, 1, 1, 1, 0, 1, 0, 1, 1, 1, 1, 0, 0, 0, 0, 1, 0, 1, 1, 0, 1, 0, 1, 1, 1, 1, 1, 1, 1, 1, 1, 1, 0, 1, 1, 0, 1, 1, 0, 0, 0, 0, 1, 0, 1, 1, 1, 0, 1, 0, 1, 1, 0, 1, 0, 1, 0, 1, 1, 1, 1, 1, 1, 0, 1, 1, 1, 1, 1, 1, 1, 1, 0, 0, 1, 0, 0, 0, 0, 1, 0, 1, 1, 1, 1, 0, 1, 1, 0, 0, 1, 1, 1, 0, 1, 1, 0, 0, 0, 1, 0, 1, 1, 0, 0, 0, 1, 0, 1, 1, 0, 1, 1, 0, 1, 1, 0, 0, 1, 0, 1, 1, 0, 1, 1, 1, 0, 1, 1, 1, 1, 0, 1, 1, 0, 0, 0, 0, 0, 0, 0, 0, 0, 1, 0, 1, 0, 0, 0, 1, 0, 0, 0, 1, 1, 1, 0, 1, 0, 0, 1, 1, 1, 1, 1, 0, 0, 1, 0, 1, 0, 1, 0, 1, 1, 1, 0, 1, 0, 0, 0, 1, 1, 1, 1, 0, 1, 1, 1, 0, 0, 0, 1, 1, 1, 1, 0, 1, 1, 0, 1, 1, 1, 0, 1, 1, 1, 1, 1, 1, 1, 0, 0, 1, 0, 1, 1, 1, 1, 1, 1, 1, 1, 1, 1, 1, 0, 1, 0, 1, 1, 1, 1, 1, 1, 0, 1, 0, 1, 1, 1, 0, 1, 1, 0, 1, 1, 1, 0, 0, 0, 1]\n"
          ]
        }
      ],
      "source": [
        "predictions = model.predict(train_set_X)\n",
        "print(\"Predictions: \", [round(x[0]) for x in predictions])\n",
        "print(\"\\nCorrect:     \", [round(x) for x in train_set_Y])"
      ]
    }
  ],
  "metadata": {
    "kernelspec": {
      "display_name": "Python 3 (ipykernel)",
      "language": "python",
      "name": "python3"
    },
    "colab": {
      "provenance": [],
      "toc_visible": true,
      "include_colab_link": true
    }
  },
  "nbformat": 4,
  "nbformat_minor": 0
}